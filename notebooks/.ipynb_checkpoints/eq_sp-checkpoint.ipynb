{
 "metadata": {
  "name": ""
 },
 "nbformat": 3,
 "nbformat_minor": 0,
 "worksheets": [
  {
   "cells": [
    {
     "cell_type": "code",
     "collapsed": false,
     "input": [
      "import os\n",
      "import sys\n",
      "\n",
      "import sympy as sp\n",
      "import numpy as np\n"
     ],
     "language": "python",
     "metadata": {},
     "outputs": [],
     "prompt_number": 1
    },
    {
     "cell_type": "code",
     "collapsed": false,
     "input": [
      "z = sp.Symbol(\"z\")\n",
      "a, b, c, A0, A1, A2, alpha = sp.symbols(\"a b c A0 A1 A2 alpha\")\n",
      "\n",
      "R = sp.Function(\"R\")\n",
      "Y = sp.Function(\"Y\")\n",
      "\n",
      "eq1 = (R(z).diff(z, 1))**2 - 4*(R(z))**3 - a*(R(z))**2 - b*R(z) - c\n",
      "eq2 = (Y(z).diff(z, 1)) + (Y(z))**2 - 1/2\n",
      "\n",
      "sub_exp = A0 + A1*Y(z) + A2*(Y(z))**2\n",
      "sub_exp_2 = -(Y(z))**2 + alpha\n"
     ],
     "language": "python",
     "metadata": {},
     "outputs": [],
     "prompt_number": 49
    },
    {
     "cell_type": "code",
     "collapsed": false,
     "input": [
      "eq3 = eq1.subs({ R(z) : sub_exp }).doit().subs({ (Y(z)).diff(z, 1) : sub_exp_2 }).doit()"
     ],
     "language": "python",
     "metadata": {},
     "outputs": [],
     "prompt_number": 50
    },
    {
     "cell_type": "code",
     "collapsed": false,
     "input": [
      "eq3"
     ],
     "language": "python",
     "metadata": {},
     "outputs": [
      {
       "metadata": {},
       "output_type": "pyout",
       "prompt_number": 51,
       "text": [
        "-a*(A0 + A1*Y(z) + A2*Y(z)**2)**2 - b*(A0 + A1*Y(z) + A2*Y(z)**2) - c + (A1*(alpha - Y(z)**2) + 2*A2*(alpha - Y(z)**2)*Y(z))**2 - 4*(A0 + A1*Y(z) + A2*Y(z)**2)**3"
       ]
      }
     ],
     "prompt_number": 51
    },
    {
     "cell_type": "code",
     "collapsed": false,
     "input": [
      "eq3 = eq3.expand()"
     ],
     "language": "python",
     "metadata": {},
     "outputs": [],
     "prompt_number": 52
    },
    {
     "cell_type": "code",
     "collapsed": false,
     "input": [
      "eq4 = sp.Poly(eq3.collect(Y(z)), Y(z))\n",
      "tmp_eq = eq3.collect(Y(z))"
     ],
     "language": "python",
     "metadata": {},
     "outputs": [],
     "prompt_number": 53
    },
    {
     "cell_type": "code",
     "collapsed": false,
     "input": [
      "coeff_list = eq4.coeffs()\n",
      "coeff_list_2 = [ j for j in [ i.subs({ A1 : 0, A2 : 1 }) for i in coeff_list ] if j != 0 ]"
     ],
     "language": "python",
     "metadata": {},
     "outputs": [],
     "prompt_number": 63
    },
    {
     "cell_type": "code",
     "collapsed": false,
     "input": [
      "for coeff in coeff_list_2:\n",
      "    print(coeff)"
     ],
     "language": "python",
     "metadata": {},
     "outputs": [
      {
       "output_type": "stream",
       "stream": "stdout",
       "text": [
        "-12*A0 - a - 8*alpha\n",
        "-12*A0**2 - 2*A0*a + 4*alpha**2 - b\n",
        "-4*A0**3 - A0**2*a - A0*b - c\n"
       ]
      }
     ],
     "prompt_number": 64
    },
    {
     "cell_type": "code",
     "collapsed": false,
     "input": [
      "tmp = [ list(i) for i in sp.solve(coeff_list_2, A0, alpha, c) ]"
     ],
     "language": "python",
     "metadata": {},
     "outputs": [],
     "prompt_number": 71
    },
    {
     "cell_type": "code",
     "collapsed": false,
     "input": [
      "tmp = [ list(map(lambda x: x.simplify(), i)) for i in tmp ]"
     ],
     "language": "python",
     "metadata": {},
     "outputs": [],
     "prompt_number": 73
    },
    {
     "cell_type": "code",
     "collapsed": false,
     "input": [
      "tmp[0][0].expand().ratsimp().simplify().doit()"
     ],
     "language": "python",
     "metadata": {},
     "outputs": [
      {
       "metadata": {},
       "output_type": "pyout",
       "prompt_number": 83,
       "text": [
        "-(a*(a**2 - 12*b) + 2*sqrt(a**6 - 36*a**4*b + 432*a**2*b**2 - 1728*b**3))/(12*a**2 - 144*b)"
       ]
      }
     ],
     "prompt_number": 83
    },
    {
     "cell_type": "code",
     "collapsed": false,
     "input": [
      "list(tmp[0])"
     ],
     "language": "python",
     "metadata": {},
     "outputs": [
      {
       "metadata": {},
       "output_type": "pyout",
       "prompt_number": 84,
       "text": [
        "[(-a**3/12 + a*b - sqrt(a**6 - 36*a**4*b + 432*a**2*b**2 - 1728*b**3)/6)/(a**2 - 12*b),\n",
        " sqrt(a**6 - 36*a**4*b + 432*a**2*b**2 - 1728*b**3)/(4*(a**2 - 12*b)),\n",
        " -a*(a**2 - 18*b)/216 + sqrt((a**2 - 12*b)**3)/216]"
       ]
      }
     ],
     "prompt_number": 84
    },
    {
     "cell_type": "code",
     "collapsed": false,
     "input": [],
     "language": "python",
     "metadata": {},
     "outputs": [],
     "prompt_number": 84
    },
    {
     "cell_type": "code",
     "collapsed": false,
     "input": [
      "C0, C1, sigma, Ap, p, A3, beta, Q, gamma = sp.symbols(\"C0 C1 sigma Ap p A3 beta Q gamma\")\n",
      "y = sp.Function(\"y\")"
     ],
     "language": "python",
     "metadata": {},
     "outputs": [],
     "prompt_number": 147
    },
    {
     "cell_type": "code",
     "collapsed": false,
     "input": [
      "ks_eq = C1 - C0*y(z) + y(z).diff(z, 1) + sigma*y(z).diff(z, 2) + y(z).diff(z, 3) + (1/2)*(y(z))**2\n",
      "\n",
      "poly_sub = Ap*z**(-p)"
     ],
     "language": "python",
     "metadata": {},
     "outputs": [],
     "prompt_number": 90
    },
    {
     "cell_type": "code",
     "collapsed": false,
     "input": [
      "tmp_sub_poly = ks_eq.subs({ y(z) : poly_sub }).doit().expand()"
     ],
     "language": "python",
     "metadata": {},
     "outputs": [],
     "prompt_number": 93
    },
    {
     "cell_type": "code",
     "collapsed": false,
     "input": [
      "for i in range(1, 5):\n",
      "    print(tmp_sub_poly.subs({ p : i }).doit().expand().simplify())"
     ],
     "language": "python",
     "metadata": {},
     "outputs": [
      {
       "output_type": "stream",
       "stream": "stdout",
       "text": [
        "-Ap*C0/z + 2*Ap*sigma/z**3 - Ap/z**2 - 6*Ap/z**4 + C1\n",
        "-Ap*C0/z**2 + 6*Ap*sigma/z**4 - 2*Ap/z**3 - 24*Ap/z**5 + C1"
       ]
      },
      {
       "output_type": "stream",
       "stream": "stdout",
       "text": [
        "\n",
        "-Ap*C0/z**3 + 12*Ap*sigma/z**5 - 3*Ap/z**4 - 60*Ap/z**6 + C1"
       ]
      },
      {
       "output_type": "stream",
       "stream": "stdout",
       "text": [
        "\n",
        "-Ap*C0/z**4 + 20*Ap*sigma/z**6 - 4*Ap/z**5 - 120*Ap/z**7 + C1"
       ]
      },
      {
       "output_type": "stream",
       "stream": "stdout",
       "text": [
        "\n"
       ]
      }
     ],
     "prompt_number": 96
    },
    {
     "cell_type": "code",
     "collapsed": false,
     "input": [
      "tmp_sub_poly\n",
      "sp.Poly(tmp_sub_poly.collect(z))\n",
      "print(sp.pretty(tmp_sub_poly))"
     ],
     "language": "python",
     "metadata": {},
     "outputs": [
      {
       "output_type": "stream",
       "stream": "stdout",
       "text": [
        "                  3  -p       2    -p         2  -p           -p         -p   \n",
        "         -p   Ap\u22c5p \u22c5z     Ap\u22c5p \u22c5\u03c3\u22c5z     3\u22c5Ap\u22c5p \u22c5z     Ap\u22c5p\u22c5\u03c3\u22c5z     Ap\u22c5p\u22c5z     \n",
        "- Ap\u22c5C\u2080\u22c5z   - \u2500\u2500\u2500\u2500\u2500\u2500\u2500\u2500\u2500 + \u2500\u2500\u2500\u2500\u2500\u2500\u2500\u2500\u2500\u2500\u2500 - \u2500\u2500\u2500\u2500\u2500\u2500\u2500\u2500\u2500\u2500\u2500 + \u2500\u2500\u2500\u2500\u2500\u2500\u2500\u2500\u2500\u2500 - \u2500\u2500\u2500\u2500\u2500\u2500\u2500\u2500 - \n",
        "                   3            2             3            2          z       \n",
        "                  z            z             z            z                   \n",
        "\n",
        "        -p     \n",
        "2\u22c5Ap\u22c5p\u22c5z       \n",
        "\u2500\u2500\u2500\u2500\u2500\u2500\u2500\u2500\u2500\u2500 + C\u2081\n",
        "     3         \n",
        "    z          \n"
       ]
      }
     ],
     "prompt_number": 117
    },
    {
     "cell_type": "code",
     "collapsed": false,
     "input": [
      "r_eq_z = -(Y(z))**2 + alpha*Y(z) + beta\n",
      "r_eq_zz = r_eq_z.diff(z, 1).doit().subs({ Y(z).diff(z, 1) : r_eq_z }).doit().expand().factor()\n",
      "#r_eq_zzz = r_eq_zz.diff(z, 1).doit().subs({ Y(z).diff(z, 1) : r_eq_zz }).doit().expand().factor()\n",
      "r_eq_zzz = r_eq_z.diff(z, 2).doit().subs({ Y(z).diff(z, 2) : r_eq_zz }).doit().expand().subs({ Y(z).diff(z, 1) : r_eq_z }).doit().expand().factor()"
     ],
     "language": "python",
     "metadata": {},
     "outputs": [],
     "prompt_number": 142
    },
    {
     "cell_type": "code",
     "collapsed": false,
     "input": [
      "sp.pretty_print(r_eq_z)\n",
      "sp.pretty_print(r_eq_zz)\n",
      "sp.pretty_print(r_eq_zzz)\n",
      "sp.pretty_print(sp.Poly(r_eq_zzz.expand(), Y(z)).coeffs())"
     ],
     "language": "python",
     "metadata": {},
     "outputs": [
      {
       "output_type": "stream",
       "stream": "stdout",
       "text": [
        "              2   \n",
        "\u03b1\u22c5Y(z) + \u03b2 - Y (z)\n",
        "              \u239b               2   \u239e\n",
        "(-\u03b1 + 2\u22c5Y(z))\u22c5\u239d-\u03b1\u22c5Y(z) - \u03b2 + Y (z)\u23a0\n",
        " \u239b               2   \u239e \u239b 2                       2   \u239e\n",
        "-\u239d-\u03b1\u22c5Y(z) - \u03b2 + Y (z)\u23a0\u22c5\u239d\u03b1  - 6\u22c5\u03b1\u22c5Y(z) - 2\u22c5\u03b2 + 6\u22c5Y (z)\u23a0\n",
        "\u23a1               2         3           2        2\u23a4\n",
        "\u23a3-6, 12\u22c5\u03b1, - 7\u22c5\u03b1  + 8\u22c5\u03b2, \u03b1  - 8\u22c5\u03b1\u22c5\u03b2, \u03b1 \u22c5\u03b2 - 2\u22c5\u03b2 \u23a6"
       ]
      },
      {
       "output_type": "stream",
       "stream": "stdout",
       "text": [
        "\n"
       ]
      }
     ],
     "prompt_number": 145
    },
    {
     "cell_type": "code",
     "collapsed": false,
     "input": [
      "w_eq_z = None"
     ],
     "language": "python",
     "metadata": {},
     "outputs": [],
     "prompt_number": 149
    },
    {
     "cell_type": "code",
     "collapsed": false,
     "input": [],
     "language": "python",
     "metadata": {},
     "outputs": [],
     "prompt_number": 144
    },
    {
     "cell_type": "code",
     "collapsed": false,
     "input": [],
     "language": "python",
     "metadata": {},
     "outputs": [],
     "prompt_number": 144
    },
    {
     "cell_type": "code",
     "collapsed": false,
     "input": [],
     "language": "python",
     "metadata": {},
     "outputs": []
    }
   ],
   "metadata": {}
  }
 ]
}