{
 "cells": [
  {
   "cell_type": "code",
   "execution_count": 2,
   "metadata": {},
   "outputs": [],
   "source": [
    "import os\n",
    "import sys\n",
    "\n",
    "import sympy as sp\n",
    "import numpy as np\n"
   ]
  },
  {
   "cell_type": "code",
   "execution_count": 3,
   "metadata": {},
   "outputs": [],
   "source": [
    "\n",
    "z = sp.Symbol(\"z\")\n",
    "a, b, sigma, C0, C1, A0, A1, A2, A3 = sp.symbols(\"a b sigma C0 C1 A0 A1 A2 A3\")\n",
    "\n",
    "Y = sp.Function(\"Y\")\n",
    "y = sp.Function(\"y\")\n"
   ]
  },
  {
   "cell_type": "code",
   "execution_count": 20,
   "metadata": {},
   "outputs": [],
   "source": [
    "sb_exp = A0 * A1*Y(z) + A2*Y(z)**2 + A3*Y(z)**3\n",
    "ks_eq = (1.0/2)*y(z)**2 + y(z).diff(z, 3) + sigma*y(z).diff(z, 2) + y(z).diff(z, 1) -  C0*y(z) + C1\n",
    "ric_eq = Y(z).diff(z, 1) + Y(z)**2 - a*Y(z) - b"
   ]
  },
  {
   "cell_type": "code",
   "execution_count": 21,
   "metadata": {},
   "outputs": [
    {
     "name": "stdout",
     "output_type": "stream",
     "text": [
      "                 2          3   \n",
      "A₀⋅A₁⋅Y(z) + A₂⋅Y (z) + A₃⋅Y (z)\n",
      "                    2                                  3      \n",
      "                   d               2      d           d       \n",
      "-C₀⋅y(z) + C₁ + σ⋅───(y(z)) + 0.5⋅y (z) + ──(y(z)) + ───(y(z))\n",
      "                    2                     dz           3      \n",
      "                  dz                                 dz       \n",
      "               2      d       \n",
      "-a⋅Y(z) - b + Y (z) + ──(Y(z))\n",
      "                      dz      \n"
     ]
    }
   ],
   "source": [
    "sp.pretty_print(sb_exp)\n",
    "sp.pretty_print(ks_eq)\n",
    "sp.pretty_print(ric_eq)"
   ]
  },
  {
   "cell_type": "code",
   "execution_count": 35,
   "metadata": {},
   "outputs": [],
   "source": [
    "r_eq_z = sp.solve(ric_eq, Y(z).diff(z, 1))[0]\n",
    "r_eq_zz = r_eq_z.diff(z, 1).doit().subs({ Y(z).diff(z, 1) : r_eq_z }).doit().expand()\n",
    "r_eq_zzz = r_eq_zz.diff(z, 1).doit().subs({ Y(z).diff(z, 1) : r_eq_z, Y(z).diff(z, 2) : r_eq_zz }).doit().expand()"
   ]
  },
  {
   "cell_type": "code",
   "execution_count": 37,
   "metadata": {},
   "outputs": [
    {
     "name": "stdout",
     "output_type": "stream",
     "text": [
      "              2   \n",
      "a⋅Y(z) + b - Y (z)\n",
      " 2                   2                    3   \n",
      "a ⋅Y(z) + a⋅b - 3⋅a⋅Y (z) - 2⋅b⋅Y(z) + 2⋅Y (z)\n",
      " 3         2        2  2                         3         2        2         \n",
      "a ⋅Y(z) + a ⋅b - 7⋅a ⋅Y (z) - 8⋅a⋅b⋅Y(z) + 12⋅a⋅Y (z) - 2⋅b  + 8⋅b⋅Y (z) - 6⋅Y\n",
      "\n",
      "4   \n",
      " (z)\n"
     ]
    }
   ],
   "source": [
    "sp.pretty_print(r_eq_z)\n",
    "sp.pretty_print(r_eq_zz)\n",
    "sp.pretty_print(r_eq_zzz)"
   ]
  },
  {
   "cell_type": "code",
   "execution_count": 40,
   "metadata": {},
   "outputs": [],
   "source": [
    "sb_s0 = ks_eq.subs({ y(z) : sb_exp }).doit().expand()\n",
    "sb_s1 = sb_s0.subs({ Y(z).diff(z, 1) : r_eq_z, Y(z).diff(z, 2) : r_eq_zz, Y(z).diff(z, 3) : r_eq_zzz }).doit().expand()"
   ]
  },
  {
   "cell_type": "code",
   "execution_count": 42,
   "metadata": {},
   "outputs": [
    {
     "name": "stdout",
     "output_type": "stream",
     "text": [
      "                                                                              \n",
      "      2   2  2                    3                    4                      \n",
      "0.5⋅A₀ ⋅A₁ ⋅Y (z) + 1.0⋅A₀⋅A₁⋅A₂⋅Y (z) + 1.0⋅A₀⋅A₁⋅A₃⋅Y (z) - A₀⋅A₁⋅C₀⋅Y(z) + \n",
      "                                                                              \n",
      "                                                                              \n",
      "\n",
      "          2                                  3                                \n",
      "         d                d                 d                2  4             \n",
      "A₀⋅A₁⋅σ⋅───(Y(z)) + A₀⋅A₁⋅──(Y(z)) + A₀⋅A₁⋅───(Y(z)) + 0.5⋅A₂ ⋅Y (z) + 1.0⋅A₂⋅\n",
      "          2               dz                 3                                \n",
      "        dz                                 dz                                 \n",
      "\n",
      "                                       2                          2           \n",
      "    5             2                   d                 ⎛d       ⎞            \n",
      "A₃⋅Y (z) - A₂⋅C₀⋅Y (z) + 2⋅A₂⋅σ⋅Y(z)⋅───(Y(z)) + 2⋅A₂⋅σ⋅⎜──(Y(z))⎟  + 2⋅A₂⋅Y(z\n",
      "                                       2                ⎝dz      ⎠            \n",
      "                                     dz                                       \n",
      "\n",
      "                         3                         2                          \n",
      "  d                     d               d         d                2  6       \n",
      ")⋅──(Y(z)) + 2⋅A₂⋅Y(z)⋅───(Y(z)) + 6⋅A₂⋅──(Y(z))⋅───(Y(z)) + 0.5⋅A₃ ⋅Y (z) - A\n",
      "  dz                     3              dz         2                          \n",
      "                       dz                        dz                           \n",
      "\n",
      "                            2                               2                 \n",
      "      3              2     d                      ⎛d       ⎞          2    d  \n",
      "₃⋅C₀⋅Y (z) + 3⋅A₃⋅σ⋅Y (z)⋅───(Y(z)) + 6⋅A₃⋅σ⋅Y(z)⋅⎜──(Y(z))⎟  + 3⋅A₃⋅Y (z)⋅──(\n",
      "                            2                     ⎝dz      ⎠               dz \n",
      "                          dz                                                  \n",
      "\n",
      "                     3                               2                        \n",
      "              2     d                     d         d               ⎛d       ⎞\n",
      "Y(z)) + 3⋅A₃⋅Y (z)⋅───(Y(z)) + 18⋅A₃⋅Y(z)⋅──(Y(z))⋅───(Y(z)) + 6⋅A₃⋅⎜──(Y(z))⎟\n",
      "                     3                    dz         2              ⎝dz      ⎠\n",
      "                   dz                              dz                         \n",
      "\n",
      "3     \n",
      "      \n",
      "  + C₁\n",
      "      \n",
      "      \n",
      "________________________________________________________________________________________\n",
      "      2   2  2                    3                    4                      \n",
      "0.5⋅A₀ ⋅A₁ ⋅Y (z) + 1.0⋅A₀⋅A₁⋅A₂⋅Y (z) + 1.0⋅A₀⋅A₁⋅A₃⋅Y (z) - A₀⋅A₁⋅C₀⋅Y(z) + \n",
      "\n",
      "       3               2            2                   2  2                  \n",
      "A₀⋅A₁⋅a ⋅Y(z) + A₀⋅A₁⋅a ⋅b + A₀⋅A₁⋅a ⋅σ⋅Y(z) - 7⋅A₀⋅A₁⋅a ⋅Y (z) + A₀⋅A₁⋅a⋅b⋅σ \n",
      "\n",
      "                                  2                  3                        \n",
      "- 8⋅A₀⋅A₁⋅a⋅b⋅Y(z) - 3⋅A₀⋅A₁⋅a⋅σ⋅Y (z) + 12⋅A₀⋅A₁⋅a⋅Y (z) + A₀⋅A₁⋅a⋅Y(z) - 2⋅A\n",
      "\n",
      "      2                                 2                           3         \n",
      "₀⋅A₁⋅b  - 2⋅A₀⋅A₁⋅b⋅σ⋅Y(z) + 8⋅A₀⋅A₁⋅b⋅Y (z) + A₀⋅A₁⋅b + 2⋅A₀⋅A₁⋅σ⋅Y (z) - 6⋅A\n",
      "\n",
      "      4             2            2  4                 5             2         \n",
      "₀⋅A₁⋅Y (z) - A₀⋅A₁⋅Y (z) + 0.5⋅A₂ ⋅Y (z) + 1.0⋅A₂⋅A₃⋅Y (z) - A₂⋅C₀⋅Y (z) + 8⋅A\n",
      "\n",
      "   3  2             2                2    2             2  3              2   \n",
      "₂⋅a ⋅Y (z) + 14⋅A₂⋅a ⋅b⋅Y(z) + 4⋅A₂⋅a ⋅σ⋅Y (z) - 38⋅A₂⋅a ⋅Y (z) + 6⋅A₂⋅a⋅b  + \n",
      "\n",
      "                             2                 3               4              \n",
      "6⋅A₂⋅a⋅b⋅σ⋅Y(z) - 52⋅A₂⋅a⋅b⋅Y (z) - 10⋅A₂⋅a⋅σ⋅Y (z) + 54⋅A₂⋅a⋅Y (z) + 2⋅A₂⋅a⋅Y\n",
      "\n",
      "2            2            2                  2               3                \n",
      " (z) + 2⋅A₂⋅b ⋅σ - 16⋅A₂⋅b ⋅Y(z) - 8⋅A₂⋅b⋅σ⋅Y (z) + 40⋅A₂⋅b⋅Y (z) + 2⋅A₂⋅b⋅Y(z\n",
      "\n",
      "            4             5            3            2  6             3        \n",
      ") + 6⋅A₂⋅σ⋅Y (z) - 24⋅A₂⋅Y (z) - 2⋅A₂⋅Y (z) + 0.5⋅A₃ ⋅Y (z) - A₃⋅C₀⋅Y (z) + 27\n",
      "\n",
      "     3  3             2    2            2    3              2  4              \n",
      "⋅A₃⋅a ⋅Y (z) + 57⋅A₃⋅a ⋅b⋅Y (z) + 9⋅A₃⋅a ⋅σ⋅Y (z) - 111⋅A₃⋅a ⋅Y (z) + 36⋅A₃⋅a⋅\n",
      "\n",
      " 2                     2                  3                 4                5\n",
      "b ⋅Y(z) + 15⋅A₃⋅a⋅b⋅σ⋅Y (z) - 168⋅A₃⋅a⋅b⋅Y (z) - 21⋅A₃⋅a⋅σ⋅Y (z) + 144⋅A₃⋅a⋅Y \n",
      "\n",
      "              3            3         2                 2  2                 3 \n",
      "(z) + 3⋅A₃⋅a⋅Y (z) + 6⋅A₃⋅b  + 6⋅A₃⋅b ⋅σ⋅Y(z) - 60⋅A₃⋅b ⋅Y (z) - 18⋅A₃⋅b⋅σ⋅Y (\n",
      "\n",
      "               4              2               5             6            4    \n",
      "z) + 114⋅A₃⋅b⋅Y (z) + 3⋅A₃⋅b⋅Y (z) + 12⋅A₃⋅σ⋅Y (z) - 60⋅A₃⋅Y (z) - 3⋅A₃⋅Y (z) \n",
      "\n",
      "    \n",
      "+ C₁\n"
     ]
    }
   ],
   "source": [
    "sp.pretty_print(sb_s0)\n",
    "print(\"________________________________________________________________________________________\")\n",
    "sp.pretty_print(sb_s1)"
   ]
  },
  {
   "cell_type": "code",
   "execution_count": 46,
   "metadata": {},
   "outputs": [],
   "source": [
    "tmp_eq = sp.Poly(sb_s1.collect(Y(z)), Y(z))\n",
    "coeff_list = tmp_eq.coeffs()"
   ]
  },
  {
   "cell_type": "code",
   "execution_count": 52,
   "metadata": {},
   "outputs": [
    {
     "name": "stdout",
     "output_type": "stream",
     "text": [
      "Poly((0.5*A3**2 - 60.0*A3)*Y(z)**6 + (1.0*A2*A3 - 24.0*A2 + 144.0*A3*a + 12.0*\n",
      "A3*sigma)*Y(z)**5 + (1.0*A0*A1*A3 - 6.0*A0*A1 + 0.5*A2**2 + 54.0*A2*a + 6.0*A2\n",
      "*sigma - 111.0*A3*a**2 - 21.0*A3*a*sigma + 114.0*A3*b - 3.0*A3)*Y(z)**4 + (1.0\n",
      "*A0*A1*A2 + 12.0*A0*A1*a + 2.0*A0*A1*sigma - 38.0*A2*a**2 - 10.0*A2*a*sigma + \n",
      "40.0*A2*b - 2.0*A2 - 1.0*A3*C0 + 27.0*A3*a**3 + 9.0*A3*a**2*sigma - 168.0*A3*a\n",
      "*b + 3.0*A3*a - 18.0*A3*b*sigma)*Y(z)**3 + (0.5*A0**2*A1**2 - 7.0*A0*A1*a**2 -\n",
      " 3.0*A0*A1*a*sigma + 8.0*A0*A1*b - 1.0*A0*A1 - 1.0*A2*C0 + 8.0*A2*a**3 + 4.0*A\n",
      "2*a**2*sigma - 52.0*A2*a*b + 2.0*A2*a - 8.0*A2*b*sigma + 57.0*A3*a**2*b + 15.0\n",
      "*A3*a*b*sigma - 60.0*A3*b**2 + 3.0*A3*b)*Y(z)**2 + (-1.0*A0*A1*C0 + 1.0*A0*A1*\n",
      "a**3 + 1.0*A0*A1*a**2*sigma - 8.0*A0*A1*a*b + 1.0*A0*A1*a - 2.0*A0*A1*b*sigma \n",
      "+ 14.0*A2*a**2*b + 6.0*A2*a*b*sigma - 16.0*A2*b**2 + 2.0*A2*b + 36.0*A3*a*b**2\n",
      " + 6.0*A3*b**2*sigma)*Y(z) + 1.0*A0*A1*a**2*b + 1.0*A0*A1*a*b*sigma - 2.0*A0*A\n",
      "1*b**2 + 1.0*A0*A1*b + 6.0*A2*a*b**2 + 2.0*A2*b**2*sigma + 6.0*A3*b**3 + 1.0*C\n",
      "1, Y(z), domain='RR[a,b,A0,A1,A2,A3,C0,C1,sigma]')\n",
      "________________________________________________________________________\n",
      "⎡      2                                                                      \n",
      "⎣0.5⋅A₃  - 60.0⋅A₃, 1.0⋅A₂⋅A₃ - 24.0⋅A₂ + 144.0⋅A₃⋅a + 12.0⋅A₃⋅σ, 1.0⋅A₀⋅A₁⋅A₃\n",
      "\n",
      "                     2                                    2                   \n",
      " - 6.0⋅A₀⋅A₁ + 0.5⋅A₂  + 54.0⋅A₂⋅a + 6.0⋅A₂⋅σ - 111.0⋅A₃⋅a  - 21.0⋅A₃⋅a⋅σ + 11\n",
      "\n",
      "                                                                        2     \n",
      "4.0⋅A₃⋅b - 3.0⋅A₃, 1.0⋅A₀⋅A₁⋅A₂ + 12.0⋅A₀⋅A₁⋅a + 2.0⋅A₀⋅A₁⋅σ - 38.0⋅A₂⋅a  - 10\n",
      "\n",
      "                                                      3           2           \n",
      ".0⋅A₂⋅a⋅σ + 40.0⋅A₂⋅b - 2.0⋅A₂ - 1.0⋅A₃⋅C₀ + 27.0⋅A₃⋅a  + 9.0⋅A₃⋅a ⋅σ - 168.0⋅\n",
      "\n",
      "                                       2   2              2                   \n",
      "A₃⋅a⋅b + 3.0⋅A₃⋅a - 18.0⋅A₃⋅b⋅σ, 0.5⋅A₀ ⋅A₁  - 7.0⋅A₀⋅A₁⋅a  - 3.0⋅A₀⋅A₁⋅a⋅σ + \n",
      "\n",
      "                                              3           2                   \n",
      "8.0⋅A₀⋅A₁⋅b - 1.0⋅A₀⋅A₁ - 1.0⋅A₂⋅C₀ + 8.0⋅A₂⋅a  + 4.0⋅A₂⋅a ⋅σ - 52.0⋅A₂⋅a⋅b + \n",
      "\n",
      "                                 2                              2             \n",
      "2.0⋅A₂⋅a - 8.0⋅A₂⋅b⋅σ + 57.0⋅A₃⋅a ⋅b + 15.0⋅A₃⋅a⋅b⋅σ - 60.0⋅A₃⋅b  + 3.0⋅A₃⋅b, \n",
      "\n",
      "                           3              2                                   \n",
      "-1.0⋅A₀⋅A₁⋅C₀ + 1.0⋅A₀⋅A₁⋅a  + 1.0⋅A₀⋅A₁⋅a ⋅σ - 8.0⋅A₀⋅A₁⋅a⋅b + 1.0⋅A₀⋅A₁⋅a - \n",
      "\n",
      "                         2                             2                      \n",
      "2.0⋅A₀⋅A₁⋅b⋅σ + 14.0⋅A₂⋅a ⋅b + 6.0⋅A₂⋅a⋅b⋅σ - 16.0⋅A₂⋅b  + 2.0⋅A₂⋅b + 36.0⋅A₃⋅\n",
      "\n",
      "   2           2               2                                  2           \n",
      "a⋅b  + 6.0⋅A₃⋅b ⋅σ, 1.0⋅A₀⋅A₁⋅a ⋅b + 1.0⋅A₀⋅A₁⋅a⋅b⋅σ - 2.0⋅A₀⋅A₁⋅b  + 1.0⋅A₀⋅A\n",
      "\n",
      "                2           2             3         ⎤\n",
      "₁⋅b + 6.0⋅A₂⋅a⋅b  + 2.0⋅A₂⋅b ⋅σ + 6.0⋅A₃⋅b  + 1.0⋅C₁⎦\n"
     ]
    }
   ],
   "source": [
    "sp.pretty_print(tmp_eq)\n",
    "print(\"________________________________________________________________________\")\n",
    "sp.pretty_print(coeff_list)"
   ]
  },
  {
   "cell_type": "code",
   "execution_count": 53,
   "metadata": {},
   "outputs": [
    {
     "name": "stdout",
     "output_type": "stream",
     "text": [
      "      2          \n",
      "0.5⋅A₃  - 60.0⋅A₃\n",
      "1.0⋅A₂⋅A₃ - 24.0⋅A₂ + 144.0⋅A₃⋅a + 12.0⋅A₃⋅σ\n",
      "                                 2                                    2       \n",
      "1.0⋅A₀⋅A₁⋅A₃ - 6.0⋅A₀⋅A₁ + 0.5⋅A₂  + 54.0⋅A₂⋅a + 6.0⋅A₂⋅σ - 111.0⋅A₃⋅a  - 21.0\n",
      "\n",
      "                             \n",
      "⋅A₃⋅a⋅σ + 114.0⋅A₃⋅b - 3.0⋅A₃\n",
      "                                                     2                        \n",
      "1.0⋅A₀⋅A₁⋅A₂ + 12.0⋅A₀⋅A₁⋅a + 2.0⋅A₀⋅A₁⋅σ - 38.0⋅A₂⋅a  - 10.0⋅A₂⋅a⋅σ + 40.0⋅A₂\n",
      "\n",
      "                                   3           2                              \n",
      "⋅b - 2.0⋅A₂ - 1.0⋅A₃⋅C₀ + 27.0⋅A₃⋅a  + 9.0⋅A₃⋅a ⋅σ - 168.0⋅A₃⋅a⋅b + 3.0⋅A₃⋅a -\n",
      "\n",
      "            \n",
      " 18.0⋅A₃⋅b⋅σ\n",
      "      2   2              2                                                    \n",
      "0.5⋅A₀ ⋅A₁  - 7.0⋅A₀⋅A₁⋅a  - 3.0⋅A₀⋅A₁⋅a⋅σ + 8.0⋅A₀⋅A₁⋅b - 1.0⋅A₀⋅A₁ - 1.0⋅A₂⋅\n",
      "\n",
      "             3           2                                                    \n",
      "C₀ + 8.0⋅A₂⋅a  + 4.0⋅A₂⋅a ⋅σ - 52.0⋅A₂⋅a⋅b + 2.0⋅A₂⋅a - 8.0⋅A₂⋅b⋅σ + 57.0⋅A₃⋅a\n",
      "\n",
      "2                              2           \n",
      " ⋅b + 15.0⋅A₃⋅a⋅b⋅σ - 60.0⋅A₃⋅b  + 3.0⋅A₃⋅b\n",
      "                           3              2                                   \n",
      "-1.0⋅A₀⋅A₁⋅C₀ + 1.0⋅A₀⋅A₁⋅a  + 1.0⋅A₀⋅A₁⋅a ⋅σ - 8.0⋅A₀⋅A₁⋅a⋅b + 1.0⋅A₀⋅A₁⋅a - \n",
      "\n",
      "                         2                             2                      \n",
      "2.0⋅A₀⋅A₁⋅b⋅σ + 14.0⋅A₂⋅a ⋅b + 6.0⋅A₂⋅a⋅b⋅σ - 16.0⋅A₂⋅b  + 2.0⋅A₂⋅b + 36.0⋅A₃⋅\n",
      "\n",
      "   2           2  \n",
      "a⋅b  + 6.0⋅A₃⋅b ⋅σ\n",
      "           2                                  2                           2   \n",
      "1.0⋅A₀⋅A₁⋅a ⋅b + 1.0⋅A₀⋅A₁⋅a⋅b⋅σ - 2.0⋅A₀⋅A₁⋅b  + 1.0⋅A₀⋅A₁⋅b + 6.0⋅A₂⋅a⋅b  + \n",
      "\n",
      "        2             3         \n",
      "2.0⋅A₂⋅b ⋅σ + 6.0⋅A₃⋅b  + 1.0⋅C₁\n"
     ]
    }
   ],
   "source": [
    "for coeff in coeff_list:\n",
    "    sp.pretty_print(coeff)"
   ]
  },
  {
   "cell_type": "code",
   "execution_count": 54,
   "metadata": {},
   "outputs": [
    {
     "name": "stdout",
     "output_type": "stream",
     "text": [
      "0.5*A3**2 - 60.0*A3\n",
      "1.0*A2*A3 - 24.0*A2 + 144.0*A3*a + 12.0*A3*sigma\n",
      "1.0*A0*A1*A3 - 6.0*A0*A1 + 0.5*A2**2 + 54.0*A2*a + 6.0*A2*sigma - 111.0*A3*a**2 - 21.0*A3*a*sigma + 114.0*A3*b - 3.0*A3\n",
      "1.0*A0*A1*A2 + 12.0*A0*A1*a + 2.0*A0*A1*sigma - 38.0*A2*a**2 - 10.0*A2*a*sigma + 40.0*A2*b - 2.0*A2 - 1.0*A3*C0 + 27.0*A3*a**3 + 9.0*A3*a**2*sigma - 168.0*A3*a*b + 3.0*A3*a - 18.0*A3*b*sigma\n",
      "0.5*A0**2*A1**2 - 7.0*A0*A1*a**2 - 3.0*A0*A1*a*sigma + 8.0*A0*A1*b - 1.0*A0*A1 - 1.0*A2*C0 + 8.0*A2*a**3 + 4.0*A2*a**2*sigma - 52.0*A2*a*b + 2.0*A2*a - 8.0*A2*b*sigma + 57.0*A3*a**2*b + 15.0*A3*a*b*sigma - 60.0*A3*b**2 + 3.0*A3*b\n",
      "-1.0*A0*A1*C0 + 1.0*A0*A1*a**3 + 1.0*A0*A1*a**2*sigma - 8.0*A0*A1*a*b + 1.0*A0*A1*a - 2.0*A0*A1*b*sigma + 14.0*A2*a**2*b + 6.0*A2*a*b*sigma - 16.0*A2*b**2 + 2.0*A2*b + 36.0*A3*a*b**2 + 6.0*A3*b**2*sigma\n",
      "1.0*A0*A1*a**2*b + 1.0*A0*A1*a*b*sigma - 2.0*A0*A1*b**2 + 1.0*A0*A1*b + 6.0*A2*a*b**2 + 2.0*A2*b**2*sigma + 6.0*A3*b**3 + 1.0*C1\n"
     ]
    }
   ],
   "source": [
    "for coeff in coeff_list:\n",
    "    print(coeff)"
   ]
  },
  {
   "cell_type": "code",
   "execution_count": 57,
   "metadata": {},
   "outputs": [],
   "source": [
    "coeff_eq_0 = coeff_list[0]\n",
    "coeff_eq_1 = coeff_list[1]"
   ]
  },
  {
   "cell_type": "code",
   "execution_count": 83,
   "metadata": {},
   "outputs": [],
   "source": [
    "A3_list = sp.solve(coeff_eq_0, A3)\n",
    "A3_value = ([ i for i in A3_list if i != 0.0 ]).pop()\n",
    "\n",
    "#sp.solve(coeff_eq_1, A2)\n",
    "#coeff_eq_0.free_symbols\n",
    "#coeff_eq_1.free_symbols"
   ]
  },
  {
   "cell_type": "code",
   "execution_count": 84,
   "metadata": {},
   "outputs": [
    {
     "name": "stdout",
     "output_type": "stream",
     "text": [
      "120.000000000000\n"
     ]
    }
   ],
   "source": [
    "sp.pretty_print(A3_value)"
   ]
  },
  {
   "cell_type": "code",
   "execution_count": 120,
   "metadata": {},
   "outputs": [],
   "source": [
    "coeff_eq_list = [ eq.subs({ A3 : A3_value }).doit() for eq in coeff_list ]\n",
    "coeff_eq_list = [ eq for eq in coeff_eq_list if eq != 0 and eq != 0.0 ]\n",
    "coeff_eq_list = [ eq.subs({ a : 0 }).simplify().expand().doit() for eq in coeff_eq_list ]"
   ]
  },
  {
   "cell_type": "code",
   "execution_count": 121,
   "metadata": {},
   "outputs": [
    {
     "name": "stdout",
     "output_type": "stream",
     "text": [
      "96.0⋅A₂ + 1440.0⋅σ\n",
      "                    2                               \n",
      "114.0⋅A₀⋅A₁ + 0.5⋅A₂  + 6.0⋅A₂⋅σ + 13680.0⋅b - 360.0\n",
      "1.0⋅A₀⋅A₁⋅A₂ + 2.0⋅A₀⋅A₁⋅σ + 40.0⋅A₂⋅b - 2.0⋅A₂ - 120.0⋅C₀ - 2160.0⋅b⋅σ\n",
      "      2   2                                                              2    \n",
      "0.5⋅A₀ ⋅A₁  + 8.0⋅A₀⋅A₁⋅b - 1.0⋅A₀⋅A₁ - 1.0⋅A₂⋅C₀ - 8.0⋅A₂⋅b⋅σ - 7200.0⋅b  + 3\n",
      "\n",
      "      \n",
      "60.0⋅b\n",
      "                                         2                     2  \n",
      "-1.0⋅A₀⋅A₁⋅C₀ - 2.0⋅A₀⋅A₁⋅b⋅σ - 16.0⋅A₂⋅b  + 2.0⋅A₂⋅b + 720.0⋅b ⋅σ\n",
      "             2                         2                     3\n",
      "- 2.0⋅A₀⋅A₁⋅b  + 1.0⋅A₀⋅A₁⋅b + 2.0⋅A₂⋅b ⋅σ + 1.0⋅C₁ + 720.0⋅b \n"
     ]
    }
   ],
   "source": [
    "for eq in coeff_eq_list:\n",
    "    sp.pretty_print(eq)"
   ]
  },
  {
   "cell_type": "code",
   "execution_count": 122,
   "metadata": {},
   "outputs": [],
   "source": [
    "s_eq_0 = sp.solve(coeff_eq_list[0])\n",
    "A2_value = s_eq_0[0][A2]"
   ]
  },
  {
   "cell_type": "code",
   "execution_count": 123,
   "metadata": {},
   "outputs": [],
   "source": [
    "coeff_eq_list = [ eq.subs({ A2 : A2_value }).doit().expand().doit().simplify().doit() for eq in coeff_eq_list ]\n",
    "coeff_eq_list = [ eq for eq in coeff_eq_list if eq != 0 and eq != 0.0 ]"
   ]
  },
  {
   "cell_type": "code",
   "execution_count": 124,
   "metadata": {},
   "outputs": [
    {
     "name": "stdout",
     "output_type": "stream",
     "text": [
      "                                2        \n",
      "114.0⋅A₀⋅A₁ + 13680.0⋅b + 22.5⋅σ  - 360.0\n",
      "-13.0⋅A₀⋅A₁⋅σ - 120.0⋅C₀ - 2760.0⋅b⋅σ + 30.0⋅σ\n",
      "      2   2                                                 2            2    \n",
      "0.5⋅A₀ ⋅A₁  + 8.0⋅A₀⋅A₁⋅b - 1.0⋅A₀⋅A₁ + 15.0⋅C₀⋅σ - 7200.0⋅b  + 120.0⋅b⋅σ  + 3\n",
      "\n",
      "      \n",
      "60.0⋅b\n",
      "                                       2             \n",
      "-1.0⋅A₀⋅A₁⋅C₀ - 2.0⋅A₀⋅A₁⋅b⋅σ + 960.0⋅b ⋅σ - 30.0⋅b⋅σ\n",
      "             2                                 3         2  2\n",
      "- 2.0⋅A₀⋅A₁⋅b  + 1.0⋅A₀⋅A₁⋅b + 1.0⋅C₁ + 720.0⋅b  - 30.0⋅b ⋅σ \n"
     ]
    }
   ],
   "source": [
    "for eq in coeff_eq_list:\n",
    "    sp.pretty_print(eq)"
   ]
  },
  {
   "cell_type": "code",
   "execution_count": 125,
   "metadata": {},
   "outputs": [],
   "source": [
    "tmp_coeff_eq_0 = coeff_eq_list[0]\n",
    "tmp_coeff_eq_1 = coeff_eq_list[1]"
   ]
  },
  {
   "cell_type": "code",
   "execution_count": 126,
   "metadata": {},
   "outputs": [
    {
     "name": "stdout",
     "output_type": "stream",
     "text": [
      "                                2        \n",
      "114.0⋅A₀⋅A₁ + 13680.0⋅b + 22.5⋅σ  - 360.0\n",
      "--------------------------------------------------------------------------\n",
      "-13.0⋅A₀⋅A₁⋅σ - 120.0⋅C₀ - 2760.0⋅b⋅σ + 30.0⋅σ\n"
     ]
    }
   ],
   "source": [
    "sp.pretty_print(tmp_coeff_eq_0)\n",
    "print(\"--------------------------------------------------------------------------\")\n",
    "sp.pretty_print(tmp_coeff_eq_1)"
   ]
  },
  {
   "cell_type": "code",
   "execution_count": 1,
   "metadata": {},
   "outputs": [
    {
     "ename": "NameError",
     "evalue": "name 'sp' is not defined",
     "output_type": "error",
     "traceback": [
      "\u001b[1;31m---------------------------------------------------------------------------\u001b[0m",
      "\u001b[1;31mNameError\u001b[0m                                 Traceback (most recent call last)",
      "\u001b[1;32m<ipython-input-1-ca0db47dc150>\u001b[0m in \u001b[0;36m<module>\u001b[1;34m\u001b[0m\n\u001b[1;32m----> 1\u001b[1;33m \u001b[0msp\u001b[0m\u001b[1;33m.\u001b[0m\u001b[0msolve\u001b[0m\u001b[1;33m(\u001b[0m\u001b[0mtmp_coeff_eq_0\u001b[0m\u001b[1;33m,\u001b[0m \u001b[0mA0\u001b[0m\u001b[1;33m)\u001b[0m\u001b[1;33m\u001b[0m\u001b[1;33m\u001b[0m\u001b[0m\n\u001b[0m\u001b[0;32m      2\u001b[0m \u001b[0mtmp_A0_value\u001b[0m \u001b[1;33m=\u001b[0m \u001b[0msp\u001b[0m\u001b[1;33m.\u001b[0m\u001b[0msolve\u001b[0m\u001b[1;33m(\u001b[0m\u001b[0mtmp_coeff_eq_0\u001b[0m\u001b[1;33m,\u001b[0m \u001b[0mA0\u001b[0m\u001b[1;33m)\u001b[0m\u001b[1;33m.\u001b[0m\u001b[0mpop\u001b[0m\u001b[1;33m(\u001b[0m\u001b[1;33m)\u001b[0m\u001b[1;33m\u001b[0m\u001b[1;33m\u001b[0m\u001b[0m\n\u001b[0;32m      3\u001b[0m \u001b[1;32mfor\u001b[0m \u001b[0meq\u001b[0m \u001b[1;32min\u001b[0m \u001b[0mcoeff_eq_list\u001b[0m\u001b[1;33m:\u001b[0m\u001b[1;33m\u001b[0m\u001b[1;33m\u001b[0m\u001b[0m\n\u001b[0;32m      4\u001b[0m     \u001b[0msp\u001b[0m\u001b[1;33m.\u001b[0m\u001b[0mpretty_print\u001b[0m\u001b[1;33m(\u001b[0m\u001b[1;34m\"\\n\"\u001b[0m\u001b[1;33m)\u001b[0m\u001b[1;33m\u001b[0m\u001b[1;33m\u001b[0m\u001b[0m\n\u001b[0;32m      5\u001b[0m     \u001b[0msp\u001b[0m\u001b[1;33m.\u001b[0m\u001b[0mpretty_print\u001b[0m\u001b[1;33m(\u001b[0m\u001b[0meq\u001b[0m\u001b[1;33m)\u001b[0m\u001b[1;33m\u001b[0m\u001b[1;33m\u001b[0m\u001b[0m\n",
      "\u001b[1;31mNameError\u001b[0m: name 'sp' is not defined"
     ]
    }
   ],
   "source": [
    "sp.solve(tmp_coeff_eq_0, A0)\n",
    "tmp_A0_value = sp.solve(tmp_coeff_eq_0, A0).pop()\n",
    "for eq in coeff_eq_list:\n",
    "    sp.pretty_print(\"\\n\")\n",
    "    sp.pretty_print(eq)"
   ]
  },
  {
   "cell_type": "code",
   "execution_count": 134,
   "metadata": {},
   "outputs": [
    {
     "data": {
      "text/plain": [
       "-15.0*sigma"
      ]
     },
     "execution_count": 134,
     "metadata": {},
     "output_type": "execute_result"
    }
   ],
   "source": []
  },
  {
   "cell_type": "code",
   "execution_count": null,
   "metadata": {},
   "outputs": [],
   "source": []
  }
 ],
 "metadata": {
  "kernelspec": {
   "display_name": "Python 3",
   "language": "python",
   "name": "python3"
  },
  "language_info": {
   "codemirror_mode": {
    "name": "ipython",
    "version": 3
   },
   "file_extension": ".py",
   "mimetype": "text/x-python",
   "name": "python",
   "nbconvert_exporter": "python",
   "pygments_lexer": "ipython3",
   "version": "3.7.1"
  }
 },
 "nbformat": 4,
 "nbformat_minor": 1
}
