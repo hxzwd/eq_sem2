{
 "metadata": {
  "name": ""
 },
 "nbformat": 3,
 "nbformat_minor": 0,
 "worksheets": [
  {
   "cells": [
    {
     "cell_type": "code",
     "collapsed": false,
     "input": [
      "import os\n",
      "import sys\n",
      "\n",
      "import sympy as sp\n",
      "import numpy as np\n"
     ],
     "language": "python",
     "metadata": {},
     "outputs": [],
     "prompt_number": 2
    },
    {
     "cell_type": "code",
     "collapsed": false,
     "input": [
      "\n",
      "z = sp.Symbol(\"z\")\n",
      "a, b, sigma, C0, C1, A0, A1, A2, A3 = sp.symbols(\"a b sigma C0 C1 A0 A1 A2 A3\")\n",
      "\n",
      "Y = sp.Function(\"Y\")\n",
      "y = sp.Function(\"y\")\n"
     ],
     "language": "python",
     "metadata": {},
     "outputs": [],
     "prompt_number": 3
    },
    {
     "cell_type": "code",
     "collapsed": false,
     "input": [
      "sb_exp = A0 * A1*Y(z) + A2*Y(z)**2 + A3*Y(z)**3\n",
      "ks_eq = (1.0/2)*y(z)**2 + y(z).diff(z, 3) + sigma*y(z).diff(z, 2) + y(z).diff(z, 1) -  C0*y(z) + C1\n",
      "ric_eq = Y(z).diff(z, 1) + Y(z)**2 - a*Y(z) - b"
     ],
     "language": "python",
     "metadata": {},
     "outputs": [],
     "prompt_number": 20
    },
    {
     "cell_type": "code",
     "collapsed": false,
     "input": [
      "sp.pretty_print(sb_exp)\n",
      "sp.pretty_print(ks_eq)\n",
      "sp.pretty_print(ric_eq)"
     ],
     "language": "python",
     "metadata": {},
     "outputs": [
      {
       "output_type": "stream",
       "stream": "stdout",
       "text": [
        "                 2          3   \n",
        "A\u2080\u22c5A\u2081\u22c5Y(z) + A\u2082\u22c5Y (z) + A\u2083\u22c5Y (z)\n",
        "                    2                                  3      \n",
        "                   d               2      d           d       \n",
        "-C\u2080\u22c5y(z) + C\u2081 + \u03c3\u22c5\u2500\u2500\u2500(y(z)) + 0.5\u22c5y (z) + \u2500\u2500(y(z)) + \u2500\u2500\u2500(y(z))\n",
        "                    2                     dz           3      \n",
        "                  dz                                 dz       \n",
        "               2      d       \n",
        "-a\u22c5Y(z) - b + Y (z) + \u2500\u2500(Y(z))\n",
        "                      dz      \n"
       ]
      }
     ],
     "prompt_number": 21
    },
    {
     "cell_type": "code",
     "collapsed": false,
     "input": [
      "r_eq_z = sp.solve(ric_eq, Y(z).diff(z, 1))[0]\n",
      "r_eq_zz = r_eq_z.diff(z, 1).doit().subs({ Y(z).diff(z, 1) : r_eq_z }).doit().expand()\n",
      "r_eq_zzz = r_eq_zz.diff(z, 1).doit().subs({ Y(z).diff(z, 1) : r_eq_z, Y(z).diff(z, 2) : r_eq_zz }).doit().expand()"
     ],
     "language": "python",
     "metadata": {},
     "outputs": [],
     "prompt_number": 35
    },
    {
     "cell_type": "code",
     "collapsed": false,
     "input": [
      "sp.pretty_print(r_eq_z)\n",
      "sp.pretty_print(r_eq_zz)\n",
      "sp.pretty_print(r_eq_zzz)"
     ],
     "language": "python",
     "metadata": {},
     "outputs": [
      {
       "output_type": "stream",
       "stream": "stdout",
       "text": [
        "              2   \n",
        "a\u22c5Y(z) + b - Y (z)\n",
        " 2                   2                    3   \n",
        "a \u22c5Y(z) + a\u22c5b - 3\u22c5a\u22c5Y (z) - 2\u22c5b\u22c5Y(z) + 2\u22c5Y (z)\n",
        " 3         2        2  2                         3         2        2         \n",
        "a \u22c5Y(z) + a \u22c5b - 7\u22c5a \u22c5Y (z) - 8\u22c5a\u22c5b\u22c5Y(z) + 12\u22c5a\u22c5Y (z) - 2\u22c5b  + 8\u22c5b\u22c5Y (z) - 6\u22c5Y\n",
        "\n",
        "4   \n",
        " (z)"
       ]
      },
      {
       "output_type": "stream",
       "stream": "stdout",
       "text": [
        "\n"
       ]
      }
     ],
     "prompt_number": 37
    },
    {
     "cell_type": "code",
     "collapsed": false,
     "input": [
      "sb_s0 = ks_eq.subs({ y(z) : sb_exp }).doit().expand()\n",
      "sb_s1 = sb_s0.subs({ Y(z).diff(z, 1) : r_eq_z, Y(z).diff(z, 2) : r_eq_zz, Y(z).diff(z, 3) : r_eq_zzz }).doit().expand()"
     ],
     "language": "python",
     "metadata": {},
     "outputs": [],
     "prompt_number": 40
    },
    {
     "cell_type": "code",
     "collapsed": false,
     "input": [
      "sp.pretty_print(sb_s0)\n",
      "print(\"________________________________________________________________________________________\")\n",
      "sp.pretty_print(sb_s1)"
     ],
     "language": "python",
     "metadata": {},
     "outputs": [
      {
       "output_type": "stream",
       "stream": "stdout",
       "text": [
        "                                                                              \n",
        "      2   2  2                    3                    4                      \n",
        "0.5\u22c5A\u2080 \u22c5A\u2081 \u22c5Y (z) + 1.0\u22c5A\u2080\u22c5A\u2081\u22c5A\u2082\u22c5Y (z) + 1.0\u22c5A\u2080\u22c5A\u2081\u22c5A\u2083\u22c5Y (z) - A\u2080\u22c5A\u2081\u22c5C\u2080\u22c5Y(z) + \n",
        "                                                                              \n",
        "                                                                              \n",
        "\n",
        "          2                                  3                                \n",
        "         d                d                 d                2  4             \n",
        "A\u2080\u22c5A\u2081\u22c5\u03c3\u22c5\u2500\u2500\u2500(Y(z)) + A\u2080\u22c5A\u2081\u22c5\u2500\u2500(Y(z)) + A\u2080\u22c5A\u2081\u22c5\u2500\u2500\u2500(Y(z)) + 0.5\u22c5A\u2082 \u22c5Y (z) + 1.0\u22c5A\u2082\u22c5\n",
        "          2               dz                 3                                \n",
        "        dz                                 dz                                 \n",
        "\n",
        "                                       2                          2           \n",
        "    5             2                   d                 \u239bd       \u239e            \n",
        "A\u2083\u22c5Y (z) - A\u2082\u22c5C\u2080\u22c5Y (z) + 2\u22c5A\u2082\u22c5\u03c3\u22c5Y(z)\u22c5\u2500\u2500\u2500(Y(z)) + 2\u22c5A\u2082\u22c5\u03c3\u22c5\u239c\u2500\u2500(Y(z))\u239f  + 2\u22c5A\u2082\u22c5Y(z\n",
        "                                       2                \u239ddz      \u23a0            \n",
        "                                     dz                                       \n",
        "\n",
        "                         3                         2                          \n",
        "  d                     d               d         d                2  6       \n",
        ")\u22c5\u2500\u2500(Y(z)) + 2\u22c5A\u2082\u22c5Y(z)\u22c5\u2500\u2500\u2500(Y(z)) + 6\u22c5A\u2082\u22c5\u2500\u2500(Y(z))\u22c5\u2500\u2500\u2500(Y(z)) + 0.5\u22c5A\u2083 \u22c5Y (z) - A\n",
        "  dz                     3              dz         2                          \n",
        "                       dz                        dz                           \n",
        "\n",
        "                            2                               2                 \n",
        "      3              2     d                      \u239bd       \u239e          2    d  \n",
        "\u2083\u22c5C\u2080\u22c5Y (z) + 3\u22c5A\u2083\u22c5\u03c3\u22c5Y (z)\u22c5\u2500\u2500\u2500(Y(z)) + 6\u22c5A\u2083\u22c5\u03c3\u22c5Y(z)\u22c5\u239c\u2500\u2500(Y(z))\u239f  + 3\u22c5A\u2083\u22c5Y (z)\u22c5\u2500\u2500(\n",
        "                            2                     \u239ddz      \u23a0               dz \n",
        "                          dz                                                  \n",
        "\n",
        "                     3                               2                        \n",
        "              2     d                     d         d               \u239bd       \u239e\n",
        "Y(z)) + 3\u22c5A\u2083\u22c5Y (z)\u22c5\u2500\u2500\u2500(Y(z)) + 18\u22c5A\u2083\u22c5Y(z)\u22c5\u2500\u2500(Y(z))\u22c5\u2500\u2500\u2500(Y(z)) + 6\u22c5A\u2083\u22c5\u239c\u2500\u2500(Y(z))\u239f\n",
        "                     3                    dz         2              \u239ddz      \u23a0\n",
        "                   dz                              dz                         \n",
        "\n",
        "3     \n",
        "      \n",
        "  + C\u2081\n",
        "      \n",
        "      \n",
        "________________________________________________________________________________________\n",
        "      2   2  2                    3                    4                      \n",
        "0.5\u22c5A\u2080 \u22c5A\u2081 \u22c5Y (z) + 1.0\u22c5A\u2080\u22c5A\u2081\u22c5A\u2082\u22c5Y (z) + 1.0\u22c5A\u2080\u22c5A\u2081\u22c5A\u2083\u22c5Y (z) - A\u2080\u22c5A\u2081\u22c5C\u2080\u22c5Y(z) + \n",
        "\n",
        "       3               2            2                   2  2                  \n",
        "A\u2080\u22c5A\u2081\u22c5a \u22c5Y(z) + A\u2080\u22c5A\u2081\u22c5a \u22c5b + A\u2080\u22c5A\u2081\u22c5a \u22c5\u03c3\u22c5Y(z) - 7\u22c5A\u2080\u22c5A\u2081\u22c5a \u22c5Y (z) + A\u2080\u22c5A\u2081\u22c5a\u22c5b\u22c5\u03c3 \n",
        "\n",
        "                                  2                  3                        \n",
        "- 8\u22c5A\u2080\u22c5A\u2081\u22c5a\u22c5b\u22c5Y(z) - 3\u22c5A\u2080\u22c5A\u2081\u22c5a\u22c5\u03c3\u22c5Y (z) + 12\u22c5A\u2080\u22c5A\u2081\u22c5a\u22c5Y (z) + A\u2080\u22c5A\u2081\u22c5a\u22c5Y(z) - 2\u22c5A\n",
        "\n",
        "      2                                 2                           3         \n",
        "\u2080\u22c5A\u2081\u22c5b  - 2\u22c5A\u2080\u22c5A\u2081\u22c5b\u22c5\u03c3\u22c5Y(z) + 8\u22c5A\u2080\u22c5A\u2081\u22c5b\u22c5Y (z) + A\u2080\u22c5A\u2081\u22c5b + 2\u22c5A\u2080\u22c5A\u2081\u22c5\u03c3\u22c5Y (z) - 6\u22c5A\n",
        "\n",
        "      4             2            2  4                 5             2         \n",
        "\u2080\u22c5A\u2081\u22c5Y (z) - A\u2080\u22c5A\u2081\u22c5Y (z) + 0.5\u22c5A\u2082 \u22c5Y (z) + 1.0\u22c5A\u2082\u22c5A\u2083\u22c5Y (z) - A\u2082\u22c5C\u2080\u22c5Y (z) + 8\u22c5A\n",
        "\n",
        "   3  2             2                2    2             2  3              2   \n",
        "\u2082\u22c5a \u22c5Y (z) + 14\u22c5A\u2082\u22c5a \u22c5b\u22c5Y(z) + 4\u22c5A\u2082\u22c5a \u22c5\u03c3\u22c5Y (z) - 38\u22c5A\u2082\u22c5a \u22c5Y (z) + 6\u22c5A\u2082\u22c5a\u22c5b  + \n",
        "\n",
        "                             2                 3               4              \n",
        "6\u22c5A\u2082\u22c5a\u22c5b\u22c5\u03c3\u22c5Y(z) - 52\u22c5A\u2082\u22c5a\u22c5b\u22c5Y (z) - 10\u22c5A\u2082\u22c5a\u22c5\u03c3\u22c5Y (z) + 54\u22c5A\u2082\u22c5a\u22c5Y (z) + 2\u22c5A\u2082\u22c5a\u22c5Y\n",
        "\n",
        "2            2            2                  2               3                \n",
        " (z) + 2\u22c5A\u2082\u22c5b \u22c5\u03c3 - 16\u22c5A\u2082\u22c5b \u22c5Y(z) - 8\u22c5A\u2082\u22c5b\u22c5\u03c3\u22c5Y (z) + 40\u22c5A\u2082\u22c5b\u22c5Y (z) + 2\u22c5A\u2082\u22c5b\u22c5Y(z\n",
        "\n",
        "            4             5            3            2  6             3        \n",
        ") + 6\u22c5A\u2082\u22c5\u03c3\u22c5Y (z) - 24\u22c5A\u2082\u22c5Y (z) - 2\u22c5A\u2082\u22c5Y (z) + 0.5\u22c5A\u2083 \u22c5Y (z) - A\u2083\u22c5C\u2080\u22c5Y (z) + 27\n",
        "\n",
        "     3  3             2    2            2    3              2  4              \n",
        "\u22c5A\u2083\u22c5a \u22c5Y (z) + 57\u22c5A\u2083\u22c5a \u22c5b\u22c5Y (z) + 9\u22c5A\u2083\u22c5a \u22c5\u03c3\u22c5Y (z) - 111\u22c5A\u2083\u22c5a \u22c5Y (z) + 36\u22c5A\u2083\u22c5a\u22c5\n",
        "\n",
        " 2                     2                  3                 4                5\n",
        "b \u22c5Y(z) + 15\u22c5A\u2083\u22c5a\u22c5b\u22c5\u03c3\u22c5Y (z) - 168\u22c5A\u2083\u22c5a\u22c5b\u22c5Y (z) - 21\u22c5A\u2083\u22c5a\u22c5\u03c3\u22c5Y (z) + 144\u22c5A\u2083\u22c5a\u22c5Y \n",
        "\n",
        "              3            3         2                 2  2                 3 \n",
        "(z) + 3\u22c5A\u2083\u22c5a\u22c5Y (z) + 6\u22c5A\u2083\u22c5b  + 6\u22c5A\u2083\u22c5b \u22c5\u03c3\u22c5Y(z) - 60\u22c5A\u2083\u22c5b \u22c5Y (z) - 18\u22c5A\u2083\u22c5b\u22c5\u03c3\u22c5Y (\n",
        "\n",
        "               4              2               5             6            4    \n",
        "z) + 114\u22c5A\u2083\u22c5b\u22c5Y (z) + 3\u22c5A\u2083\u22c5b\u22c5Y (z) + 12\u22c5A\u2083\u22c5\u03c3\u22c5Y (z) - 60\u22c5A\u2083\u22c5Y (z) - 3\u22c5A\u2083\u22c5Y (z) \n",
        "\n",
        "    \n",
        "+ C\u2081"
       ]
      },
      {
       "output_type": "stream",
       "stream": "stdout",
       "text": [
        "\n"
       ]
      }
     ],
     "prompt_number": 42
    },
    {
     "cell_type": "code",
     "collapsed": false,
     "input": [
      "tmp_eq = sp.Poly(sb_s1.collect(Y(z)), Y(z))\n",
      "coeff_list = tmp_eq.coeffs()"
     ],
     "language": "python",
     "metadata": {},
     "outputs": [],
     "prompt_number": 46
    },
    {
     "cell_type": "code",
     "collapsed": false,
     "input": [
      "sp.pretty_print(tmp_eq)\n",
      "print(\"________________________________________________________________________\")\n",
      "sp.pretty_print(coeff_list)"
     ],
     "language": "python",
     "metadata": {},
     "outputs": [
      {
       "output_type": "stream",
       "stream": "stdout",
       "text": [
        "Poly((0.5*A3**2 - 60.0*A3)*Y(z)**6 + (1.0*A2*A3 - 24.0*A2 + 144.0*A3*a + 12.0*\n",
        "A3*sigma)*Y(z)**5 + (1.0*A0*A1*A3 - 6.0*A0*A1 + 0.5*A2**2 + 54.0*A2*a + 6.0*A2\n",
        "*sigma - 111.0*A3*a**2 - 21.0*A3*a*sigma + 114.0*A3*b - 3.0*A3)*Y(z)**4 + (1.0\n",
        "*A0*A1*A2 + 12.0*A0*A1*a + 2.0*A0*A1*sigma - 38.0*A2*a**2 - 10.0*A2*a*sigma + \n",
        "40.0*A2*b - 2.0*A2 - 1.0*A3*C0 + 27.0*A3*a**3 + 9.0*A3*a**2*sigma - 168.0*A3*a\n",
        "*b + 3.0*A3*a - 18.0*A3*b*sigma)*Y(z)**3 + (0.5*A0**2*A1**2 - 7.0*A0*A1*a**2 -\n",
        " 3.0*A0*A1*a*sigma + 8.0*A0*A1*b - 1.0*A0*A1 - 1.0*A2*C0 + 8.0*A2*a**3 + 4.0*A\n",
        "2*a**2*sigma - 52.0*A2*a*b + 2.0*A2*a - 8.0*A2*b*sigma + 57.0*A3*a**2*b + 15.0\n",
        "*A3*a*b*sigma - 60.0*A3*b**2 + 3.0*A3*b)*Y(z)**2 + (-1.0*A0*A1*C0 + 1.0*A0*A1*\n",
        "a**3 + 1.0*A0*A1*a**2*sigma - 8.0*A0*A1*a*b + 1.0*A0*A1*a - 2.0*A0*A1*b*sigma \n",
        "+ 14.0*A2*a**2*b + 6.0*A2*a*b*sigma - 16.0*A2*b**2 + 2.0*A2*b + 36.0*A3*a*b**2\n",
        " + 6.0*A3*b**2*sigma)*Y(z) + 1.0*A0*A1*a**2*b + 1.0*A0*A1*a*b*sigma - 2.0*A0*A\n",
        "1*b**2 + 1.0*A0*A1*b + 6.0*A2*a*b**2 + 2.0*A2*b**2*sigma + 6.0*A3*b**3 + 1.0*C\n",
        "1, Y(z), domain='RR[a,b,A0,A1,A2,A3,C0,C1,sigma]')\n",
        "________________________________________________________________________\n",
        "\u23a1      2                                                                      \n",
        "\u23a30.5\u22c5A\u2083  - 60.0\u22c5A\u2083, 1.0\u22c5A\u2082\u22c5A\u2083 - 24.0\u22c5A\u2082 + 144.0\u22c5A\u2083\u22c5a + 12.0\u22c5A\u2083\u22c5\u03c3, 1.0\u22c5A\u2080\u22c5A\u2081\u22c5A\u2083\n",
        "\n",
        "                     2                                    2                   \n",
        " - 6.0\u22c5A\u2080\u22c5A\u2081 + 0.5\u22c5A\u2082  + 54.0\u22c5A\u2082\u22c5a + 6.0\u22c5A\u2082\u22c5\u03c3 - 111.0\u22c5A\u2083\u22c5a  - 21.0\u22c5A\u2083\u22c5a\u22c5\u03c3 + 11\n",
        "\n",
        "                                                                        2     \n",
        "4.0\u22c5A\u2083\u22c5b - 3.0\u22c5A\u2083, 1.0\u22c5A\u2080\u22c5A\u2081\u22c5A\u2082 + 12.0\u22c5A\u2080\u22c5A\u2081\u22c5a + 2.0\u22c5A\u2080\u22c5A\u2081\u22c5\u03c3 - 38.0\u22c5A\u2082\u22c5a  - 10\n",
        "\n",
        "                                                      3           2           \n",
        ".0\u22c5A\u2082\u22c5a\u22c5\u03c3 + 40.0\u22c5A\u2082\u22c5b - 2.0\u22c5A\u2082 - 1.0\u22c5A\u2083\u22c5C\u2080 + 27.0\u22c5A\u2083\u22c5a  + 9.0\u22c5A\u2083\u22c5a \u22c5\u03c3 - 168.0\u22c5\n",
        "\n",
        "                                       2   2              2                   \n",
        "A\u2083\u22c5a\u22c5b + 3.0\u22c5A\u2083\u22c5a - 18.0\u22c5A\u2083\u22c5b\u22c5\u03c3, 0.5\u22c5A\u2080 \u22c5A\u2081  - 7.0\u22c5A\u2080\u22c5A\u2081\u22c5a  - 3.0\u22c5A\u2080\u22c5A\u2081\u22c5a\u22c5\u03c3 + \n",
        "\n",
        "                                              3           2                   \n",
        "8.0\u22c5A\u2080\u22c5A\u2081\u22c5b - 1.0\u22c5A\u2080\u22c5A\u2081 - 1.0\u22c5A\u2082\u22c5C\u2080 + 8.0\u22c5A\u2082\u22c5a  + 4.0\u22c5A\u2082\u22c5a \u22c5\u03c3 - 52.0\u22c5A\u2082\u22c5a\u22c5b + \n",
        "\n",
        "                                 2                              2             \n",
        "2.0\u22c5A\u2082\u22c5a - 8.0\u22c5A\u2082\u22c5b\u22c5\u03c3 + 57.0\u22c5A\u2083\u22c5a \u22c5b + 15.0\u22c5A\u2083\u22c5a\u22c5b\u22c5\u03c3 - 60.0\u22c5A\u2083\u22c5b  + 3.0\u22c5A\u2083\u22c5b, \n",
        "\n",
        "                           3              2                                   \n",
        "-1.0\u22c5A\u2080\u22c5A\u2081\u22c5C\u2080 + 1.0\u22c5A\u2080\u22c5A\u2081\u22c5a  + 1.0\u22c5A\u2080\u22c5A\u2081\u22c5a \u22c5\u03c3 - 8.0\u22c5A\u2080\u22c5A\u2081\u22c5a\u22c5b + 1.0\u22c5A\u2080\u22c5A\u2081\u22c5a - \n",
        "\n",
        "                         2                             2                      \n",
        "2.0\u22c5A\u2080\u22c5A\u2081\u22c5b\u22c5\u03c3 + 14.0\u22c5A\u2082\u22c5a \u22c5b + 6.0\u22c5A\u2082\u22c5a\u22c5b\u22c5\u03c3 - 16.0\u22c5A\u2082\u22c5b  + 2.0\u22c5A\u2082\u22c5b + 36.0\u22c5A\u2083\u22c5\n",
        "\n",
        "   2           2               2                                  2           \n",
        "a\u22c5b  + 6.0\u22c5A\u2083\u22c5b \u22c5\u03c3, 1.0\u22c5A\u2080\u22c5A\u2081\u22c5a \u22c5b + 1.0\u22c5A\u2080\u22c5A\u2081\u22c5a\u22c5b\u22c5\u03c3 - 2.0\u22c5A\u2080\u22c5A\u2081\u22c5b  + 1.0\u22c5A\u2080\u22c5A\n",
        "\n",
        "                2           2             3         \u23a4\n",
        "\u2081\u22c5b + 6.0\u22c5A\u2082\u22c5a\u22c5b  + 2.0\u22c5A\u2082\u22c5b \u22c5\u03c3 + 6.0\u22c5A\u2083\u22c5b  + 1.0\u22c5C\u2081\u23a6"
       ]
      },
      {
       "output_type": "stream",
       "stream": "stdout",
       "text": [
        "\n"
       ]
      }
     ],
     "prompt_number": 52
    },
    {
     "cell_type": "code",
     "collapsed": false,
     "input": [
      "for coeff in coeff_list:\n",
      "    sp.pretty_print(coeff)"
     ],
     "language": "python",
     "metadata": {},
     "outputs": [
      {
       "output_type": "stream",
       "stream": "stdout",
       "text": [
        "      2          \n",
        "0.5\u22c5A\u2083  - 60.0\u22c5A\u2083\n",
        "1.0\u22c5A\u2082\u22c5A\u2083 - 24.0\u22c5A\u2082 + 144.0\u22c5A\u2083\u22c5a + 12.0\u22c5A\u2083\u22c5\u03c3\n",
        "                                 2                                    2       \n",
        "1.0\u22c5A\u2080\u22c5A\u2081\u22c5A\u2083 - 6.0\u22c5A\u2080\u22c5A\u2081 + 0.5\u22c5A\u2082  + 54.0\u22c5A\u2082\u22c5a + 6.0\u22c5A\u2082\u22c5\u03c3 - 111.0\u22c5A\u2083\u22c5a  - 21.0\n",
        "\n",
        "                             \n",
        "\u22c5A\u2083\u22c5a\u22c5\u03c3 + 114.0\u22c5A\u2083\u22c5b - 3.0\u22c5A\u2083\n",
        "                                                     2                        \n",
        "1.0\u22c5A\u2080\u22c5A\u2081\u22c5A\u2082 + 12.0\u22c5A\u2080\u22c5A\u2081\u22c5a + 2.0\u22c5A\u2080\u22c5A\u2081\u22c5\u03c3 - 38.0\u22c5A\u2082\u22c5a  - 10.0\u22c5A\u2082\u22c5a\u22c5\u03c3 + 40.0\u22c5A\u2082\n",
        "\n",
        "                                   3           2                              \n",
        "\u22c5b - 2.0\u22c5A\u2082 - 1.0\u22c5A\u2083\u22c5C\u2080 + 27.0\u22c5A\u2083\u22c5a  + 9.0\u22c5A\u2083\u22c5a \u22c5\u03c3 - 168.0\u22c5A\u2083\u22c5a\u22c5b + 3.0\u22c5A\u2083\u22c5a -\n",
        "\n",
        "            \n",
        " 18.0\u22c5A\u2083\u22c5b\u22c5\u03c3"
       ]
      },
      {
       "output_type": "stream",
       "stream": "stdout",
       "text": [
        "\n",
        "      2   2              2                                                    \n",
        "0.5\u22c5A\u2080 \u22c5A\u2081  - 7.0\u22c5A\u2080\u22c5A\u2081\u22c5a  - 3.0\u22c5A\u2080\u22c5A\u2081\u22c5a\u22c5\u03c3 + 8.0\u22c5A\u2080\u22c5A\u2081\u22c5b - 1.0\u22c5A\u2080\u22c5A\u2081 - 1.0\u22c5A\u2082\u22c5\n",
        "\n",
        "             3           2                                                    \n",
        "C\u2080 + 8.0\u22c5A\u2082\u22c5a  + 4.0\u22c5A\u2082\u22c5a \u22c5\u03c3 - 52.0\u22c5A\u2082\u22c5a\u22c5b + 2.0\u22c5A\u2082\u22c5a - 8.0\u22c5A\u2082\u22c5b\u22c5\u03c3 + 57.0\u22c5A\u2083\u22c5a\n",
        "\n",
        "2                              2           \n",
        " \u22c5b + 15.0\u22c5A\u2083\u22c5a\u22c5b\u22c5\u03c3 - 60.0\u22c5A\u2083\u22c5b  + 3.0\u22c5A\u2083\u22c5b\n",
        "                           3              2                                   \n",
        "-1.0\u22c5A\u2080\u22c5A\u2081\u22c5C\u2080 + 1.0\u22c5A\u2080\u22c5A\u2081\u22c5a  + 1.0\u22c5A\u2080\u22c5A\u2081\u22c5a \u22c5\u03c3 - 8.0\u22c5A\u2080\u22c5A\u2081\u22c5a\u22c5b + 1.0\u22c5A\u2080\u22c5A\u2081\u22c5a - \n",
        "\n",
        "                         2                             2                      \n",
        "2.0\u22c5A\u2080\u22c5A\u2081\u22c5b\u22c5\u03c3 + 14.0\u22c5A\u2082\u22c5a \u22c5b + 6.0\u22c5A\u2082\u22c5a\u22c5b\u22c5\u03c3 - 16.0\u22c5A\u2082\u22c5b  + 2.0\u22c5A\u2082\u22c5b + 36.0\u22c5A\u2083\u22c5\n",
        "\n",
        "   2           2  \n",
        "a\u22c5b  + 6.0\u22c5A\u2083\u22c5b \u22c5\u03c3"
       ]
      },
      {
       "output_type": "stream",
       "stream": "stdout",
       "text": [
        "\n",
        "           2                                  2                           2   \n",
        "1.0\u22c5A\u2080\u22c5A\u2081\u22c5a \u22c5b + 1.0\u22c5A\u2080\u22c5A\u2081\u22c5a\u22c5b\u22c5\u03c3 - 2.0\u22c5A\u2080\u22c5A\u2081\u22c5b  + 1.0\u22c5A\u2080\u22c5A\u2081\u22c5b + 6.0\u22c5A\u2082\u22c5a\u22c5b  + \n",
        "\n",
        "        2             3         \n",
        "2.0\u22c5A\u2082\u22c5b \u22c5\u03c3 + 6.0\u22c5A\u2083\u22c5b  + 1.0\u22c5C\u2081\n"
       ]
      }
     ],
     "prompt_number": 53
    },
    {
     "cell_type": "code",
     "collapsed": false,
     "input": [
      "for coeff in coeff_list:\n",
      "    print(coeff)"
     ],
     "language": "python",
     "metadata": {},
     "outputs": [
      {
       "output_type": "stream",
       "stream": "stdout",
       "text": [
        "0.5*A3**2 - 60.0*A3\n",
        "1.0*A2*A3 - 24.0*A2 + 144.0*A3*a + 12.0*A3*sigma\n",
        "1.0*A0*A1*A3 - 6.0*A0*A1 + 0.5*A2**2 + 54.0*A2*a + 6.0*A2*sigma - 111.0*A3*a**2 - 21.0*A3*a*sigma + 114.0*A3*b - 3.0*A3\n",
        "1.0*A0*A1*A2 + 12.0*A0*A1*a + 2.0*A0*A1*sigma - 38.0*A2*a**2 - 10.0*A2*a*sigma + 40.0*A2*b - 2.0*A2 - 1.0*A3*C0 + 27.0*A3*a**3 + 9.0*A3*a**2*sigma - 168.0*A3*a*b + 3.0*A3*a - 18.0*A3*b*sigma"
       ]
      },
      {
       "output_type": "stream",
       "stream": "stdout",
       "text": [
        "\n",
        "0.5*A0**2*A1**2 - 7.0*A0*A1*a**2 - 3.0*A0*A1*a*sigma + 8.0*A0*A1*b - 1.0*A0*A1 - 1.0*A2*C0 + 8.0*A2*a**3 + 4.0*A2*a**2*sigma - 52.0*A2*a*b + 2.0*A2*a - 8.0*A2*b*sigma + 57.0*A3*a**2*b + 15.0*A3*a*b*sigma - 60.0*A3*b**2 + 3.0*A3*b\n",
        "-1.0*A0*A1*C0 + 1.0*A0*A1*a**3 + 1.0*A0*A1*a**2*sigma - 8.0*A0*A1*a*b + 1.0*A0*A1*a - 2.0*A0*A1*b*sigma + 14.0*A2*a**2*b + 6.0*A2*a*b*sigma - 16.0*A2*b**2 + 2.0*A2*b + 36.0*A3*a*b**2 + 6.0*A3*b**2*sigma"
       ]
      },
      {
       "output_type": "stream",
       "stream": "stdout",
       "text": [
        "\n",
        "1.0*A0*A1*a**2*b + 1.0*A0*A1*a*b*sigma - 2.0*A0*A1*b**2 + 1.0*A0*A1*b + 6.0*A2*a*b**2 + 2.0*A2*b**2*sigma + 6.0*A3*b**3 + 1.0*C1\n"
       ]
      }
     ],
     "prompt_number": 54
    },
    {
     "cell_type": "code",
     "collapsed": false,
     "input": [
      "coeff_eq_0 = coeff_list[0]\n",
      "coeff_eq_1 = coeff_list[1]"
     ],
     "language": "python",
     "metadata": {},
     "outputs": [],
     "prompt_number": 57
    },
    {
     "cell_type": "code",
     "collapsed": false,
     "input": [
      "A3_list = sp.solve(coeff_eq_0, A3)\n",
      "A3_value = ([ i for i in A3_list if i != 0.0 ]).pop()\n",
      "\n",
      "#sp.solve(coeff_eq_1, A2)\n",
      "#coeff_eq_0.free_symbols\n",
      "#coeff_eq_1.free_symbols"
     ],
     "language": "python",
     "metadata": {},
     "outputs": [],
     "prompt_number": 83
    },
    {
     "cell_type": "code",
     "collapsed": false,
     "input": [
      "sp.pretty_print(A3_value)"
     ],
     "language": "python",
     "metadata": {},
     "outputs": [
      {
       "output_type": "stream",
       "stream": "stdout",
       "text": [
        "120.000000000000\n"
       ]
      }
     ],
     "prompt_number": 84
    },
    {
     "cell_type": "code",
     "collapsed": false,
     "input": [
      "coeff_eq_list = [ eq.subs({ A3 : A3_value }).doit() for eq in coeff_list ]\n",
      "coeff_eq_list = [ eq for eq in coeff_eq_list if eq != 0 and eq != 0.0 ]\n",
      "coeff_eq_list = [ eq.subs({ a : 0 }).simplify().expand().doit() for eq in coeff_eq_list ]"
     ],
     "language": "python",
     "metadata": {},
     "outputs": [],
     "prompt_number": 120
    },
    {
     "cell_type": "code",
     "collapsed": false,
     "input": [
      "for eq in coeff_eq_list:\n",
      "    sp.pretty_print(eq)"
     ],
     "language": "python",
     "metadata": {},
     "outputs": [
      {
       "output_type": "stream",
       "stream": "stdout",
       "text": [
        "96.0\u22c5A\u2082 + 1440.0\u22c5\u03c3\n",
        "                    2                               \n",
        "114.0\u22c5A\u2080\u22c5A\u2081 + 0.5\u22c5A\u2082  + 6.0\u22c5A\u2082\u22c5\u03c3 + 13680.0\u22c5b - 360.0\n",
        "1.0\u22c5A\u2080\u22c5A\u2081\u22c5A\u2082 + 2.0\u22c5A\u2080\u22c5A\u2081\u22c5\u03c3 + 40.0\u22c5A\u2082\u22c5b - 2.0\u22c5A\u2082 - 120.0\u22c5C\u2080 - 2160.0\u22c5b\u22c5\u03c3\n",
        "      2   2                                                              2    \n",
        "0.5\u22c5A\u2080 \u22c5A\u2081  + 8.0\u22c5A\u2080\u22c5A\u2081\u22c5b - 1.0\u22c5A\u2080\u22c5A\u2081 - 1.0\u22c5A\u2082\u22c5C\u2080 - 8.0\u22c5A\u2082\u22c5b\u22c5\u03c3 - 7200.0\u22c5b  + 3\n",
        "\n",
        "      \n",
        "60.0\u22c5b\n",
        "                                         2                     2  \n",
        "-1.0\u22c5A\u2080\u22c5A\u2081\u22c5C\u2080 - 2.0\u22c5A\u2080\u22c5A\u2081\u22c5b\u22c5\u03c3 - 16.0\u22c5A\u2082\u22c5b  + 2.0\u22c5A\u2082\u22c5b + 720.0\u22c5b \u22c5\u03c3\n",
        "             2                         2                     3\n",
        "- 2.0\u22c5A\u2080\u22c5A\u2081\u22c5b  + 1.0\u22c5A\u2080\u22c5A\u2081\u22c5b + 2.0\u22c5A\u2082\u22c5b \u22c5\u03c3 + 1.0\u22c5C\u2081 + 720.0\u22c5b \n"
       ]
      }
     ],
     "prompt_number": 121
    },
    {
     "cell_type": "code",
     "collapsed": false,
     "input": [
      "s_eq_0 = sp.solve(coeff_eq_list[0])\n",
      "A2_value = s_eq_0[0][A2]"
     ],
     "language": "python",
     "metadata": {},
     "outputs": [],
     "prompt_number": 122
    },
    {
     "cell_type": "code",
     "collapsed": false,
     "input": [
      "coeff_eq_list = [ eq.subs({ A2 : A2_value }).doit().expand().doit().simplify().doit() for eq in coeff_eq_list ]\n",
      "coeff_eq_list = [ eq for eq in coeff_eq_list if eq != 0 and eq != 0.0 ]"
     ],
     "language": "python",
     "metadata": {},
     "outputs": [],
     "prompt_number": 123
    },
    {
     "cell_type": "code",
     "collapsed": false,
     "input": [
      "for eq in coeff_eq_list:\n",
      "    sp.pretty_print(eq)"
     ],
     "language": "python",
     "metadata": {},
     "outputs": [
      {
       "output_type": "stream",
       "stream": "stdout",
       "text": [
        "                                2        \n",
        "114.0\u22c5A\u2080\u22c5A\u2081 + 13680.0\u22c5b + 22.5\u22c5\u03c3  - 360.0\n",
        "-13.0\u22c5A\u2080\u22c5A\u2081\u22c5\u03c3 - 120.0\u22c5C\u2080 - 2760.0\u22c5b\u22c5\u03c3 + 30.0\u22c5\u03c3\n",
        "      2   2                                                 2            2    \n",
        "0.5\u22c5A\u2080 \u22c5A\u2081  + 8.0\u22c5A\u2080\u22c5A\u2081\u22c5b - 1.0\u22c5A\u2080\u22c5A\u2081 + 15.0\u22c5C\u2080\u22c5\u03c3 - 7200.0\u22c5b  + 120.0\u22c5b\u22c5\u03c3  + 3\n",
        "\n",
        "      \n",
        "60.0\u22c5b\n",
        "                                       2             \n",
        "-1.0\u22c5A\u2080\u22c5A\u2081\u22c5C\u2080 - 2.0\u22c5A\u2080\u22c5A\u2081\u22c5b\u22c5\u03c3 + 960.0\u22c5b \u22c5\u03c3 - 30.0\u22c5b\u22c5\u03c3\n",
        "             2                                 3         2  2\n",
        "- 2.0\u22c5A\u2080\u22c5A\u2081\u22c5b  + 1.0\u22c5A\u2080\u22c5A\u2081\u22c5b + 1.0\u22c5C\u2081 + 720.0\u22c5b  - 30.0\u22c5b \u22c5\u03c3 \n"
       ]
      }
     ],
     "prompt_number": 124
    },
    {
     "cell_type": "code",
     "collapsed": false,
     "input": [
      "tmp_coeff_eq_0 = coeff_eq_list[0]\n",
      "tmp_coeff_eq_1 = coeff_eq_list[1]"
     ],
     "language": "python",
     "metadata": {},
     "outputs": [],
     "prompt_number": 125
    },
    {
     "cell_type": "code",
     "collapsed": false,
     "input": [
      "sp.pretty_print(tmp_coeff_eq_0)\n",
      "print(\"--------------------------------------------------------------------------\")\n",
      "sp.pretty_print(tmp_coeff_eq_1)"
     ],
     "language": "python",
     "metadata": {},
     "outputs": [
      {
       "output_type": "stream",
       "stream": "stdout",
       "text": [
        "                                2        \n",
        "114.0\u22c5A\u2080\u22c5A\u2081 + 13680.0\u22c5b + 22.5\u22c5\u03c3  - 360.0\n",
        "--------------------------------------------------------------------------\n",
        "-13.0\u22c5A\u2080\u22c5A\u2081\u22c5\u03c3 - 120.0\u22c5C\u2080 - 2760.0\u22c5b\u22c5\u03c3 + 30.0\u22c5\u03c3\n"
       ]
      }
     ],
     "prompt_number": 126
    },
    {
     "cell_type": "code",
     "collapsed": false,
     "input": [
      "sp.solve(tmp_coeff_eq_0, A0)\n",
      "tmp_A0_value = sp.solve(tmp_coeff_eq_0, A0).pop()\n",
      "for eq in coeff_eq_list:\n",
      "    sp.pretty_print(eq)"
     ],
     "language": "python",
     "metadata": {},
     "outputs": [
      {
       "output_type": "stream",
       "stream": "stdout",
       "text": [
        "                                2        \n",
        "114.0\u22c5A\u2080\u22c5A\u2081 + 13680.0\u22c5b + 22.5\u22c5\u03c3  - 360.0\n",
        "-13.0\u22c5A\u2080\u22c5A\u2081\u22c5\u03c3 - 120.0\u22c5C\u2080 - 2760.0\u22c5b\u22c5\u03c3 + 30.0\u22c5\u03c3\n",
        "      2   2                                                 2            2    \n",
        "0.5\u22c5A\u2080 \u22c5A\u2081  + 8.0\u22c5A\u2080\u22c5A\u2081\u22c5b - 1.0\u22c5A\u2080\u22c5A\u2081 + 15.0\u22c5C\u2080\u22c5\u03c3 - 7200.0\u22c5b  + 120.0\u22c5b\u22c5\u03c3  + 3\n",
        "\n",
        "      \n",
        "60.0\u22c5b\n",
        "                                       2             \n",
        "-1.0\u22c5A\u2080\u22c5A\u2081\u22c5C\u2080 - 2.0\u22c5A\u2080\u22c5A\u2081\u22c5b\u22c5\u03c3 + 960.0\u22c5b \u22c5\u03c3 - 30.0\u22c5b\u22c5\u03c3\n",
        "             2                                 3         2  2\n",
        "- 2.0\u22c5A\u2080\u22c5A\u2081\u22c5b  + 1.0\u22c5A\u2080\u22c5A\u2081\u22c5b + 1.0\u22c5C\u2081 + 720.0\u22c5b  - 30.0\u22c5b \u22c5\u03c3 \n"
       ]
      }
     ],
     "prompt_number": 133
    },
    {
     "cell_type": "code",
     "collapsed": false,
     "input": [],
     "language": "python",
     "metadata": {},
     "outputs": [
      {
       "metadata": {},
       "output_type": "pyout",
       "prompt_number": 134,
       "text": [
        "-15.0*sigma"
       ]
      }
     ],
     "prompt_number": 134
    },
    {
     "cell_type": "code",
     "collapsed": false,
     "input": [],
     "language": "python",
     "metadata": {},
     "outputs": []
    }
   ],
   "metadata": {}
  }
 ]
}