{
 "cells": [
  {
   "cell_type": "code",
   "execution_count": 1,
   "metadata": {},
   "outputs": [],
   "source": [
    "import os\n",
    "import sys\n",
    "\n",
    "import sympy as sp\n",
    "import numpy as np\n"
   ]
  },
  {
   "cell_type": "code",
   "execution_count": 49,
   "metadata": {},
   "outputs": [],
   "source": [
    "z = sp.Symbol(\"z\")\n",
    "a, b, c, A0, A1, A2, alpha = sp.symbols(\"a b c A0 A1 A2 alpha\")\n",
    "\n",
    "R = sp.Function(\"R\")\n",
    "Y = sp.Function(\"Y\")\n",
    "\n",
    "eq1 = (R(z).diff(z, 1))**2 - 4*(R(z))**3 - a*(R(z))**2 - b*R(z) - c\n",
    "eq2 = (Y(z).diff(z, 1)) + (Y(z))**2 - 1/2\n",
    "\n",
    "sub_exp = A0 + A1*Y(z) + A2*(Y(z))**2\n",
    "sub_exp_2 = -(Y(z))**2 + alpha\n"
   ]
  },
  {
   "cell_type": "code",
   "execution_count": 50,
   "metadata": {},
   "outputs": [],
   "source": [
    "eq3 = eq1.subs({ R(z) : sub_exp }).doit().subs({ (Y(z)).diff(z, 1) : sub_exp_2 }).doit()"
   ]
  },
  {
   "cell_type": "code",
   "execution_count": 51,
   "metadata": {},
   "outputs": [
    {
     "data": {
      "text/plain": [
       "-a*(A0 + A1*Y(z) + A2*Y(z)**2)**2 - b*(A0 + A1*Y(z) + A2*Y(z)**2) - c + (A1*(alpha - Y(z)**2) + 2*A2*(alpha - Y(z)**2)*Y(z))**2 - 4*(A0 + A1*Y(z) + A2*Y(z)**2)**3"
      ]
     },
     "execution_count": 51,
     "metadata": {},
     "output_type": "execute_result"
    }
   ],
   "source": [
    "eq3"
   ]
  },
  {
   "cell_type": "code",
   "execution_count": 52,
   "metadata": {},
   "outputs": [],
   "source": [
    "eq3 = eq3.expand()"
   ]
  },
  {
   "cell_type": "code",
   "execution_count": 53,
   "metadata": {},
   "outputs": [],
   "source": [
    "eq4 = sp.Poly(eq3.collect(Y(z)), Y(z))\n",
    "tmp_eq = eq3.collect(Y(z))"
   ]
  },
  {
   "cell_type": "code",
   "execution_count": 63,
   "metadata": {},
   "outputs": [],
   "source": [
    "coeff_list = eq4.coeffs()\n",
    "coeff_list_2 = [ j for j in [ i.subs({ A1 : 0, A2 : 1 }) for i in coeff_list ] if j != 0 ]"
   ]
  },
  {
   "cell_type": "code",
   "execution_count": 64,
   "metadata": {},
   "outputs": [
    {
     "name": "stdout",
     "output_type": "stream",
     "text": [
      "-12*A0 - a - 8*alpha\n",
      "-12*A0**2 - 2*A0*a + 4*alpha**2 - b\n",
      "-4*A0**3 - A0**2*a - A0*b - c\n"
     ]
    }
   ],
   "source": [
    "for coeff in coeff_list_2:\n",
    "    print(coeff)"
   ]
  },
  {
   "cell_type": "code",
   "execution_count": 71,
   "metadata": {},
   "outputs": [],
   "source": [
    "tmp = [ list(i) for i in sp.solve(coeff_list_2, A0, alpha, c) ]"
   ]
  },
  {
   "cell_type": "code",
   "execution_count": 73,
   "metadata": {},
   "outputs": [],
   "source": [
    "tmp = [ list(map(lambda x: x.simplify(), i)) for i in tmp ]"
   ]
  },
  {
   "cell_type": "code",
   "execution_count": 83,
   "metadata": {},
   "outputs": [
    {
     "data": {
      "text/plain": [
       "-(a*(a**2 - 12*b) + 2*sqrt(a**6 - 36*a**4*b + 432*a**2*b**2 - 1728*b**3))/(12*a**2 - 144*b)"
      ]
     },
     "execution_count": 83,
     "metadata": {},
     "output_type": "execute_result"
    }
   ],
   "source": [
    "tmp[0][0].expand().ratsimp().simplify().doit()"
   ]
  },
  {
   "cell_type": "code",
   "execution_count": 84,
   "metadata": {},
   "outputs": [
    {
     "data": {
      "text/plain": [
       "[(-a**3/12 + a*b - sqrt(a**6 - 36*a**4*b + 432*a**2*b**2 - 1728*b**3)/6)/(a**2 - 12*b),\n",
       " sqrt(a**6 - 36*a**4*b + 432*a**2*b**2 - 1728*b**3)/(4*(a**2 - 12*b)),\n",
       " -a*(a**2 - 18*b)/216 + sqrt((a**2 - 12*b)**3)/216]"
      ]
     },
     "execution_count": 84,
     "metadata": {},
     "output_type": "execute_result"
    }
   ],
   "source": [
    "list(tmp[0])"
   ]
  },
  {
   "cell_type": "code",
   "execution_count": 84,
   "metadata": {},
   "outputs": [],
   "source": []
  },
  {
   "cell_type": "code",
   "execution_count": 147,
   "metadata": {},
   "outputs": [],
   "source": [
    "C0, C1, sigma, Ap, p, A3, beta, Q, gamma = sp.symbols(\"C0 C1 sigma Ap p A3 beta Q gamma\")\n",
    "y = sp.Function(\"y\")"
   ]
  },
  {
   "cell_type": "code",
   "execution_count": 90,
   "metadata": {},
   "outputs": [],
   "source": [
    "ks_eq = C1 - C0*y(z) + y(z).diff(z, 1) + sigma*y(z).diff(z, 2) + y(z).diff(z, 3) + (1/2)*(y(z))**2\n",
    "\n",
    "poly_sub = Ap*z**(-p)"
   ]
  },
  {
   "cell_type": "code",
   "execution_count": 93,
   "metadata": {},
   "outputs": [],
   "source": [
    "tmp_sub_poly = ks_eq.subs({ y(z) : poly_sub }).doit().expand()"
   ]
  },
  {
   "cell_type": "code",
   "execution_count": 96,
   "metadata": {},
   "outputs": [
    {
     "name": "stdout",
     "output_type": "stream",
     "text": [
      "-Ap*C0/z + 2*Ap*sigma/z**3 - Ap/z**2 - 6*Ap/z**4 + C1\n",
      "-Ap*C0/z**2 + 6*Ap*sigma/z**4 - 2*Ap/z**3 - 24*Ap/z**5 + C1\n",
      "-Ap*C0/z**3 + 12*Ap*sigma/z**5 - 3*Ap/z**4 - 60*Ap/z**6 + C1\n",
      "-Ap*C0/z**4 + 20*Ap*sigma/z**6 - 4*Ap/z**5 - 120*Ap/z**7 + C1\n"
     ]
    }
   ],
   "source": [
    "for i in range(1, 5):\n",
    "    print(tmp_sub_poly.subs({ p : i }).doit().expand().simplify())"
   ]
  },
  {
   "cell_type": "code",
   "execution_count": 117,
   "metadata": {},
   "outputs": [
    {
     "name": "stdout",
     "output_type": "stream",
     "text": [
      "                  3  -p       2    -p         2  -p           -p         -p   \n",
      "         -p   Ap⋅p ⋅z     Ap⋅p ⋅σ⋅z     3⋅Ap⋅p ⋅z     Ap⋅p⋅σ⋅z     Ap⋅p⋅z     \n",
      "- Ap⋅C₀⋅z   - ───────── + ─────────── - ─────────── + ────────── - ──────── - \n",
      "                   3            2             3            2          z       \n",
      "                  z            z             z            z                   \n",
      "\n",
      "        -p     \n",
      "2⋅Ap⋅p⋅z       \n",
      "────────── + C₁\n",
      "     3         \n",
      "    z          \n"
     ]
    }
   ],
   "source": [
    "tmp_sub_poly\n",
    "sp.Poly(tmp_sub_poly.collect(z))\n",
    "print(sp.pretty(tmp_sub_poly))"
   ]
  },
  {
   "cell_type": "code",
   "execution_count": 142,
   "metadata": {},
   "outputs": [],
   "source": [
    "r_eq_z = -(Y(z))**2 + alpha*Y(z) + beta\n",
    "r_eq_zz = r_eq_z.diff(z, 1).doit().subs({ Y(z).diff(z, 1) : r_eq_z }).doit().expand().factor()\n",
    "#r_eq_zzz = r_eq_zz.diff(z, 1).doit().subs({ Y(z).diff(z, 1) : r_eq_zz }).doit().expand().factor()\n",
    "r_eq_zzz = r_eq_z.diff(z, 2).doit().subs({ Y(z).diff(z, 2) : r_eq_zz }).doit().expand().subs({ Y(z).diff(z, 1) : r_eq_z }).doit().expand().factor()"
   ]
  },
  {
   "cell_type": "code",
   "execution_count": 145,
   "metadata": {},
   "outputs": [
    {
     "name": "stdout",
     "output_type": "stream",
     "text": [
      "              2   \n",
      "α⋅Y(z) + β - Y (z)\n",
      "              ⎛               2   ⎞\n",
      "(-α + 2⋅Y(z))⋅⎝-α⋅Y(z) - β + Y (z)⎠\n",
      " ⎛               2   ⎞ ⎛ 2                       2   ⎞\n",
      "-⎝-α⋅Y(z) - β + Y (z)⎠⋅⎝α  - 6⋅α⋅Y(z) - 2⋅β + 6⋅Y (z)⎠\n",
      "⎡               2         3           2        2⎤\n",
      "⎣-6, 12⋅α, - 7⋅α  + 8⋅β, α  - 8⋅α⋅β, α ⋅β - 2⋅β ⎦\n"
     ]
    }
   ],
   "source": [
    "sp.pretty_print(r_eq_z)\n",
    "sp.pretty_print(r_eq_zz)\n",
    "sp.pretty_print(r_eq_zzz)\n",
    "sp.pretty_print(sp.Poly(r_eq_zzz.expand(), Y(z)).coeffs())"
   ]
  },
  {
   "cell_type": "code",
   "execution_count": 149,
   "metadata": {},
   "outputs": [],
   "source": [
    "w_eq_z = None"
   ]
  },
  {
   "cell_type": "code",
   "execution_count": 144,
   "metadata": {},
   "outputs": [],
   "source": []
  },
  {
   "cell_type": "code",
   "execution_count": 144,
   "metadata": {},
   "outputs": [],
   "source": []
  },
  {
   "cell_type": "code",
   "execution_count": null,
   "metadata": {},
   "outputs": [],
   "source": []
  }
 ],
 "metadata": {
  "kernelspec": {
   "display_name": "Python 3",
   "language": "python",
   "name": "python3"
  },
  "language_info": {
   "codemirror_mode": {
    "name": "ipython",
    "version": 3
   },
   "file_extension": ".py",
   "mimetype": "text/x-python",
   "name": "python",
   "nbconvert_exporter": "python",
   "pygments_lexer": "ipython3",
   "version": "3.7.1"
  }
 },
 "nbformat": 4,
 "nbformat_minor": 1
}
