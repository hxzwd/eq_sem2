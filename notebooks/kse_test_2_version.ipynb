{
 "cells": [
  {
   "cell_type": "code",
   "execution_count": 2,
   "metadata": {},
   "outputs": [],
   "source": [
    "import os\n",
    "import sys\n",
    "\n",
    "import sympy as sp\n",
    "import numpy as np\n"
   ]
  },
  {
   "cell_type": "code",
   "execution_count": 3,
   "metadata": {},
   "outputs": [],
   "source": [
    "\n",
    "z = sp.Symbol(\"z\")\n",
    "a, b, sigma, C0, C1, A0, A1, A2, A3 = sp.symbols(\"a b sigma C0 C1 A0 A1 A2 A3\")\n",
    "\n",
    "Y = sp.Function(\"Y\")\n",
    "y = sp.Function(\"y\")\n"
   ]
  },
  {
   "cell_type": "code",
   "execution_count": 28,
   "metadata": {},
   "outputs": [],
   "source": [
    "sb_exp = A0 * A1*Y(z) + A2*Y(z)**2 + A3*Y(z)**3\n",
    "ks_eq = (1.0/2)*y(z)**2 + y(z).diff(z, 3) + sigma*y(z).diff(z, 2) + y(z).diff(z, 1) -  C0*y(z) + C1\n",
    "ric_eq = Y(z).diff(z, 1) + Y(z)**2 - a*Y(z) - b"
   ]
  },
  {
   "cell_type": "code",
   "execution_count": 29,
   "metadata": {},
   "outputs": [
    {
     "name": "stdout",
     "output_type": "stream",
     "text": [
      "                 2          3   \n",
      "A₀⋅A₁⋅Y(z) + A₂⋅Y (z) + A₃⋅Y (z)\n",
      "                    2                                  3      \n",
      "                   d               2      d           d       \n",
      "-C₀⋅y(z) + C₁ + σ⋅───(y(z)) + 0.5⋅y (z) + ──(y(z)) + ───(y(z))\n",
      "                    2                     dz           3      \n",
      "                  dz                                 dz       \n",
      "               2      d       \n",
      "-a⋅Y(z) - b + Y (z) + ──(Y(z))\n",
      "                      dz      \n"
     ]
    }
   ],
   "source": [
    "sp.pretty_print(sb_exp)\n",
    "sp.pretty_print(ks_eq)\n",
    "sp.pretty_print(ric_eq)"
   ]
  },
  {
   "cell_type": "code",
   "execution_count": 35,
   "metadata": {},
   "outputs": [],
   "source": [
    "r_eq_z = sp.solve(ric_eq, Y(z).diff(z, 1))[0]\n",
    "r_eq_zz = r_eq_z.diff(z, 1).doit().subs({ Y(z).diff(z, 1) : r_eq_z }).doit().expand()\n",
    "r_eq_zzz = r_eq_zz.diff(z, 1).doit().subs({ Y(z).diff(z, 1) : r_eq_z, Y(z).diff(z, 2) : r_eq_zz }).doit().expand().doit()"
   ]
  },
  {
   "cell_type": "code",
   "execution_count": 36,
   "metadata": {},
   "outputs": [
    {
     "name": "stdout",
     "output_type": "stream",
     "text": [
      "              2   \n",
      "a⋅Y(z) + b - Y (z)\n",
      " 2                   2                    3   \n",
      "a ⋅Y(z) + a⋅b - 3⋅a⋅Y (z) - 2⋅b⋅Y(z) + 2⋅Y (z)\n",
      " 3         2        2  2                         3         2        2         \n",
      "a ⋅Y(z) + a ⋅b - 7⋅a ⋅Y (z) - 8⋅a⋅b⋅Y(z) + 12⋅a⋅Y (z) - 2⋅b  + 8⋅b⋅Y (z) - 6⋅Y\n",
      "\n",
      "4   \n",
      " (z)\n"
     ]
    }
   ],
   "source": [
    "sp.pretty_print(r_eq_z)\n",
    "sp.pretty_print(r_eq_zz)\n",
    "sp.pretty_print(r_eq_zzz)"
   ]
  },
  {
   "cell_type": "code",
   "execution_count": 39,
   "metadata": {},
   "outputs": [],
   "source": [
    "sb_s0 = ks_eq.subs({ y(z) : sb_exp }).doit().expand()\n",
    "sb_s1 = sb_s0.subs({ Y(z).diff(z, 1) : r_eq_z, Y(z).diff(z, 2) : r_eq_zz, Y(z).diff(z, 3) : r_eq_zzz }).doit().expand().doit()"
   ]
  },
  {
   "cell_type": "code",
   "execution_count": 59,
   "metadata": {},
   "outputs": [],
   "source": [
    "#sp.pretty_print(sb_s0)\n",
    "#print(\"________________________________________________________________________________________\")\n",
    "#sp.pretty_print(sb_s1)\n",
    "\n",
    "sb_s1 = sb_s0.subs({ Y(z).diff(z, 3) : r_eq_zzz, Y(z).diff(z, 2) : r_eq_zz }).doit().subs({ Y(z).diff(z, 1) : r_eq_z }).doit()\n"
   ]
  },
  {
   "cell_type": "code",
   "execution_count": 60,
   "metadata": {},
   "outputs": [],
   "source": [
    "tmp_eq = sp.Poly(sb_s1.collect(Y(z)), Y(z))\n",
    "coeff_list = tmp_eq.coeffs()"
   ]
  },
  {
   "cell_type": "code",
   "execution_count": 80,
   "metadata": {},
   "outputs": [
    {
     "name": "stdout",
     "output_type": "stream",
     "text": [
      "Poly((0.5*A3**2 - 60.0*A3)*(Y(z))**6 + (1.0*A2*A3 - 24.0*A2 + 144.0*A3*a + 12.0*A3*sigma)*(Y(z))**5 + (1.0*A0*A1*A3 - 6.0*A0*A1 + 0.5*A2**2 + 54.0*A2*a + 6.0*A2*sigma - 111.0*A3*a**2 - 21.0*A3*a*sigma + 114.0*A3*b - 3.0*A3)*(Y(z))**4 + (1.0*A0*A1*A2 + 12.0*A0*A1*a + 2.0*A0*A1*sigma - 38.0*A2*a**2 - 10.0*A2*a*sigma + 40.0*A2*b - 2.0*A2 - 1.0*A3*C0 + 27.0*A3*a**3 + 9.0*A3*a**2*sigma - 168.0*A3*a*b + 3.0*A3*a - 18.0*A3*b*sigma)*(Y(z))**3 + (0.5*A0**2*A1**2 - 7.0*A0*A1*a**2 - 3.0*A0*A1*a*sigma + 8.0*A0*A1*b - 1.0*A0*A1 - 1.0*A2*C0 + 8.0*A2*a**3 + 4.0*A2*a**2*sigma - 52.0*A2*a*b + 2.0*A2*a - 8.0*A2*b*sigma + 57.0*A3*a**2*b + 15.0*A3*a*b*sigma - 60.0*A3*b**2 + 3.0*A3*b)*(Y(z))**2 + (-1.0*A0*A1*C0 + 1.0*A0*A1*a**3 + 1.0*A0*A1*a**2*sigma - 8.0*A0*A1*a*b + 1.0*A0*A1*a - 2.0*A0*A1*b*sigma + 14.0*A2*a**2*b + 6.0*A2*a*b*sigma - 16.0*A2*b**2 + 2.0*A2*b + 36.0*A3*a*b**2 + 6.0*A3*b**2*sigma)*(Y(z)) + 1.0*A0*A1*a**2*b + 1.0*A0*A1*a*b*sigma - 2.0*A0*A1*b**2 + 1.0*A0*A1*b + 6.0*A2*a*b**2 + 2.0*A2*b**2*sigma + 6.0*A3*b**3 + 1.0*C1, Y(z), domain='RR[a,b,A0,A1,A2,A3,C0,C1,sigma]')\n",
      "__________________________________________________________________________\n",
      "[0.5*A3**2 - 60.0*A3, 1.0*A2*A3 - 24.0*A2 + 144.0*A3*a + 12.0*A3*sigma, 1.0*A0*A1*A3 - 6.0*A0*A1 + 0.5*A2**2 + 54.0*A2*a + 6.0*A2*sigma - 111.0*A3*a**2 - 21.0*A3*a*sigma + 114.0*A3*b - 3.0*A3, 1.0*A0*A1*A2 + 12.0*A0*A1*a + 2.0*A0*A1*sigma - 38.0*A2*a**2 - 10.0*A2*a*sigma + 40.0*A2*b - 2.0*A2 - 1.0*A3*C0 + 27.0*A3*a**3 + 9.0*A3*a**2*sigma - 168.0*A3*a*b + 3.0*A3*a - 18.0*A3*b*sigma, 0.5*A0**2*A1**2 - 7.0*A0*A1*a**2 - 3.0*A0*A1*a*sigma + 8.0*A0*A1*b - 1.0*A0*A1 - 1.0*A2*C0 + 8.0*A2*a**3 + 4.0*A2*a**2*sigma - 52.0*A2*a*b + 2.0*A2*a - 8.0*A2*b*sigma + 57.0*A3*a**2*b + 15.0*A3*a*b*sigma - 60.0*A3*b**2 + 3.0*A3*b, -1.0*A0*A1*C0 + 1.0*A0*A1*a**3 + 1.0*A0*A1*a**2*sigma - 8.0*A0*A1*a*b + 1.0*A0*A1*a - 2.0*A0*A1*b*sigma + 14.0*A2*a**2*b + 6.0*A2*a*b*sigma - 16.0*A2*b**2 + 2.0*A2*b + 36.0*A3*a*b**2 + 6.0*A3*b**2*sigma, 1.0*A0*A1*a**2*b + 1.0*A0*A1*a*b*sigma - 2.0*A0*A1*b**2 + 1.0*A0*A1*b + 6.0*A2*a*b**2 + 2.0*A2*b**2*sigma + 6.0*A3*b**3 + 1.0*C1]\n"
     ]
    }
   ],
   "source": [
    "#sp.pretty_print(tmp_eq)\n",
    "#print(\"________________________________________________________________________\")\n",
    "#sp.pretty_print(coeff_list)\n",
    "print(tmp_eq)\n",
    "print(\"__________________________________________________________________________\")\n",
    "print(coeff_list)"
   ]
  },
  {
   "cell_type": "code",
   "execution_count": 79,
   "metadata": {},
   "outputs": [
    {
     "name": "stdout",
     "output_type": "stream",
     "text": [
      "0.5*A3**2 - 60.0*A3\n",
      "1.0*A2*A3 - 24.0*A2 + 144.0*A3*a + 12.0*A3*sigma\n",
      "1.0*A0*A1*A3 - 6.0*A0*A1 + 0.5*A2**2 + 54.0*A2*a + 6.0*A2*sigma - 111.0*A3*a**2 - 21.0*A3*a*sigma + 114.0*A3*b - 3.0*A3\n",
      "1.0*A0*A1*A2 + 12.0*A0*A1*a + 2.0*A0*A1*sigma - 38.0*A2*a**2 - 10.0*A2*a*sigma + 40.0*A2*b - 2.0*A2 - 1.0*A3*C0 + 27.0*A3*a**3 + 9.0*A3*a**2*sigma - 168.0*A3*a*b + 3.0*A3*a - 18.0*A3*b*sigma\n",
      "0.5*A0**2*A1**2 - 7.0*A0*A1*a**2 - 3.0*A0*A1*a*sigma + 8.0*A0*A1*b - 1.0*A0*A1 - 1.0*A2*C0 + 8.0*A2*a**3 + 4.0*A2*a**2*sigma - 52.0*A2*a*b + 2.0*A2*a - 8.0*A2*b*sigma + 57.0*A3*a**2*b + 15.0*A3*a*b*sigma - 60.0*A3*b**2 + 3.0*A3*b\n",
      "-1.0*A0*A1*C0 + 1.0*A0*A1*a**3 + 1.0*A0*A1*a**2*sigma - 8.0*A0*A1*a*b + 1.0*A0*A1*a - 2.0*A0*A1*b*sigma + 14.0*A2*a**2*b + 6.0*A2*a*b*sigma - 16.0*A2*b**2 + 2.0*A2*b + 36.0*A3*a*b**2 + 6.0*A3*b**2*sigma\n",
      "1.0*A0*A1*a**2*b + 1.0*A0*A1*a*b*sigma - 2.0*A0*A1*b**2 + 1.0*A0*A1*b + 6.0*A2*a*b**2 + 2.0*A2*b**2*sigma + 6.0*A3*b**3 + 1.0*C1\n"
     ]
    }
   ],
   "source": [
    "for coeff in coeff_list:\n",
    "    print(coeff)\n",
    "#    sp.pretty_print(coeff)"
   ]
  },
  {
   "cell_type": "code",
   "execution_count": 63,
   "metadata": {},
   "outputs": [
    {
     "name": "stdout",
     "output_type": "stream",
     "text": [
      "0.5*A3**2 - 60.0*A3\n",
      "1.0*A2*A3 - 24.0*A2 + 144.0*A3*a + 12.0*A3*sigma\n",
      "1.0*A0*A1*A3 - 6.0*A0*A1 + 0.5*A2**2 + 54.0*A2*a + 6.0*A2*sigma - 111.0*A3*a**2 - 21.0*A3*a*sigma + 114.0*A3*b - 3.0*A3\n",
      "1.0*A0*A1*A2 + 12.0*A0*A1*a + 2.0*A0*A1*sigma - 38.0*A2*a**2 - 10.0*A2*a*sigma + 40.0*A2*b - 2.0*A2 - 1.0*A3*C0 + 27.0*A3*a**3 + 9.0*A3*a**2*sigma - 168.0*A3*a*b + 3.0*A3*a - 18.0*A3*b*sigma\n",
      "0.5*A0**2*A1**2 - 7.0*A0*A1*a**2 - 3.0*A0*A1*a*sigma + 8.0*A0*A1*b - 1.0*A0*A1 - 1.0*A2*C0 + 8.0*A2*a**3 + 4.0*A2*a**2*sigma - 52.0*A2*a*b + 2.0*A2*a - 8.0*A2*b*sigma + 57.0*A3*a**2*b + 15.0*A3*a*b*sigma - 60.0*A3*b**2 + 3.0*A3*b\n",
      "-1.0*A0*A1*C0 + 1.0*A0*A1*a**3 + 1.0*A0*A1*a**2*sigma - 8.0*A0*A1*a*b + 1.0*A0*A1*a - 2.0*A0*A1*b*sigma + 14.0*A2*a**2*b + 6.0*A2*a*b*sigma - 16.0*A2*b**2 + 2.0*A2*b + 36.0*A3*a*b**2 + 6.0*A3*b**2*sigma\n",
      "1.0*A0*A1*a**2*b + 1.0*A0*A1*a*b*sigma - 2.0*A0*A1*b**2 + 1.0*A0*A1*b + 6.0*A2*a*b**2 + 2.0*A2*b**2*sigma + 6.0*A3*b**3 + 1.0*C1\n"
     ]
    }
   ],
   "source": [
    "for coeff in coeff_list:\n",
    "    print(coeff)"
   ]
  },
  {
   "cell_type": "code",
   "execution_count": 64,
   "metadata": {},
   "outputs": [],
   "source": [
    "coeff_eq_0 = coeff_list[0]\n",
    "coeff_eq_1 = coeff_list[1]"
   ]
  },
  {
   "cell_type": "code",
   "execution_count": 65,
   "metadata": {},
   "outputs": [],
   "source": [
    "A3_list = sp.solve(coeff_eq_0, A3)\n",
    "A3_value = ([ i for i in A3_list if i != 0.0 ]).pop()\n",
    "\n",
    "#sp.solve(coeff_eq_1, A2)\n",
    "#coeff_eq_0.free_symbols\n",
    "#coeff_eq_1.free_symbols"
   ]
  },
  {
   "cell_type": "code",
   "execution_count": 66,
   "metadata": {},
   "outputs": [
    {
     "name": "stdout",
     "output_type": "stream",
     "text": [
      "120.000000000000\n"
     ]
    }
   ],
   "source": [
    "sp.pretty_print(A3_value)"
   ]
  },
  {
   "cell_type": "code",
   "execution_count": 67,
   "metadata": {},
   "outputs": [],
   "source": [
    "coeff_eq_list = [ eq.subs({ A3 : A3_value }).doit() for eq in coeff_list ]\n",
    "coeff_eq_list = [ eq for eq in coeff_eq_list if eq != 0 and eq != 0.0 ]\n",
    "coeff_eq_list = [ eq.subs({ a : 0 }).simplify().expand().doit() for eq in coeff_eq_list ]"
   ]
  },
  {
   "cell_type": "code",
   "execution_count": 78,
   "metadata": {},
   "outputs": [
    {
     "name": "stdout",
     "output_type": "stream",
     "text": [
      "114.0*A0*A1 + 13680.0*b + 22.5*sigma**2 - 360.0\n",
      "-13.0*A0*A1*sigma - 120.0*C0 - 2760.0*b*sigma + 30.0*sigma\n",
      "0.5*A0**2*A1**2 + 8.0*A0*A1*b - 1.0*A0*A1 + 15.0*C0*sigma - 7200.0*b**2 + 120.0*b*sigma**2 + 360.0*b\n",
      "-1.0*A0*A1*C0 - 2.0*A0*A1*b*sigma + 960.0*b**2*sigma - 30.0*b*sigma\n",
      "-2.0*A0*A1*b**2 + 1.0*A0*A1*b + 1.0*C1 + 720.0*b**3 - 30.0*b**2*sigma**2\n"
     ]
    }
   ],
   "source": [
    "for eq in coeff_eq_list:\n",
    "    print(eq)\n",
    "#    sp.pretty_print(eq)"
   ]
  },
  {
   "cell_type": "code",
   "execution_count": 69,
   "metadata": {},
   "outputs": [],
   "source": [
    "s_eq_0 = sp.solve(coeff_eq_list[0])\n",
    "A2_value = s_eq_0[0][A2]"
   ]
  },
  {
   "cell_type": "code",
   "execution_count": 70,
   "metadata": {},
   "outputs": [],
   "source": [
    "coeff_eq_list = [ eq.subs({ A2 : A2_value }).doit().expand().doit().simplify().doit() for eq in coeff_eq_list ]\n",
    "coeff_eq_list = [ eq for eq in coeff_eq_list if eq != 0 and eq != 0.0 ]"
   ]
  },
  {
   "cell_type": "code",
   "execution_count": 77,
   "metadata": {},
   "outputs": [
    {
     "name": "stdout",
     "output_type": "stream",
     "text": [
      "114.0*A0*A1 + 13680.0*b + 22.5*sigma**2 - 360.0\n",
      "-13.0*A0*A1*sigma - 120.0*C0 - 2760.0*b*sigma + 30.0*sigma\n",
      "0.5*A0**2*A1**2 + 8.0*A0*A1*b - 1.0*A0*A1 + 15.0*C0*sigma - 7200.0*b**2 + 120.0*b*sigma**2 + 360.0*b\n",
      "-1.0*A0*A1*C0 - 2.0*A0*A1*b*sigma + 960.0*b**2*sigma - 30.0*b*sigma\n",
      "-2.0*A0*A1*b**2 + 1.0*A0*A1*b + 1.0*C1 + 720.0*b**3 - 30.0*b**2*sigma**2\n"
     ]
    }
   ],
   "source": [
    "for eq in coeff_eq_list:\n",
    "    print(eq)\n",
    "#    sp.pretty_print(eq)"
   ]
  },
  {
   "cell_type": "code",
   "execution_count": 72,
   "metadata": {},
   "outputs": [],
   "source": [
    "tmp_coeff_eq_0 = coeff_eq_list[0]\n",
    "tmp_coeff_eq_1 = coeff_eq_list[1]"
   ]
  },
  {
   "cell_type": "code",
   "execution_count": 76,
   "metadata": {},
   "outputs": [
    {
     "name": "stdout",
     "output_type": "stream",
     "text": [
      "114.0*A0*A1 + 13680.0*b + 22.5*sigma**2 - 360.0\n",
      "___________________________________________________________________________\n",
      "-13.0*A0*A1*sigma - 120.0*C0 - 2760.0*b*sigma + 30.0*sigma\n"
     ]
    }
   ],
   "source": [
    "#sp.pretty_print(tmp_coeff_eq_0)\n",
    "#print(\"--------------------------------------------------------------------------\")\n",
    "#sp.pretty_print(tmp_coeff_eq_1)\n",
    "print(tmp_coeff_eq_0)\n",
    "print(\"___________________________________________________________________________\")\n",
    "print(tmp_coeff_eq_1)"
   ]
  },
  {
   "cell_type": "code",
   "execution_count": 75,
   "metadata": {},
   "outputs": [
    {
     "name": "stdout",
     "output_type": "stream",
     "text": [
      "114.0*A0*A1 + 13680.0*b + 22.5*sigma**2 - 360.0\n",
      "-13.0*A0*A1*sigma - 120.0*C0 - 2760.0*b*sigma + 30.0*sigma\n",
      "0.5*A0**2*A1**2 + 8.0*A0*A1*b - 1.0*A0*A1 + 15.0*C0*sigma - 7200.0*b**2 + 120.0*b*sigma**2 + 360.0*b\n",
      "-1.0*A0*A1*C0 - 2.0*A0*A1*b*sigma + 960.0*b**2*sigma - 30.0*b*sigma\n",
      "-2.0*A0*A1*b**2 + 1.0*A0*A1*b + 1.0*C1 + 720.0*b**3 - 30.0*b**2*sigma**2\n"
     ]
    }
   ],
   "source": [
    "sp.solve(tmp_coeff_eq_0, A0)\n",
    "tmp_A0_value = sp.solve(tmp_coeff_eq_0, A0).pop()\n",
    "for eq in coeff_eq_list:\n",
    "    print(eq)"
   ]
  },
  {
   "cell_type": "code",
   "execution_count": null,
   "metadata": {},
   "outputs": [],
   "source": []
  },
  {
   "cell_type": "code",
   "execution_count": null,
   "metadata": {},
   "outputs": [],
   "source": []
  }
 ],
 "metadata": {
  "kernelspec": {
   "display_name": "Python 3",
   "language": "python",
   "name": "python3"
  },
  "language_info": {
   "codemirror_mode": {
    "name": "ipython",
    "version": 3
   },
   "file_extension": ".py",
   "mimetype": "text/x-python",
   "name": "python",
   "nbconvert_exporter": "python",
   "pygments_lexer": "ipython3",
   "version": "3.7.1"
  }
 },
 "nbformat": 4,
 "nbformat_minor": 1
}
